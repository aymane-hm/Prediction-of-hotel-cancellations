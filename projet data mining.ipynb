{
 "cells": [
  {
   "cell_type": "markdown",
   "metadata": {},
   "source": [
    "# Projet Data Mining -DA 2021 \n",
    "## Réalisé par : Aymane HMIDICH & Mehdi SLAOUI \n",
    "### Filière : DATA ENGINEER \n"
   ]
  },
  {
   "cell_type": "markdown",
   "metadata": {},
   "source": [
    "<h1>table de matière </h1>\n",
    "\n",
    "<div class=\"alert alert-block alert-info\" style=\"margin-top: 20px\">\n",
    "    <ol>\n",
    "        <li><a href=\"#I. Dataset:\">I. Dataset:</a> </li>\n",
    "        <li><a href=\"#II. Data preprocessing\">II. Data preprocessing</a> </li>\n",
    "        <li><a href=\"#III. Exploratory data analysis\">III. Exploratory data analysis</a></li>\n",
    "        <li><a href=\"#IV. Modeling\">IV. Modeling</a></li>\n",
    "    </ol>\n",
    "</div>\n",
    "<br>\n",
    "<hr>"
   ]
  },
  {
   "cell_type": "markdown",
   "metadata": {},
   "source": [
    "<div id=\"I. Dataset:\">\n",
    "    <h2>Préparer les données</h2> \n",
    "</div>"
   ]
  },
  {
   "cell_type": "markdown",
   "metadata": {},
   "source": [
    "This data describes two datasets with hotel demand data. One of the hotels (H1) is a resort hotel and the other is\n",
    "a city hotel (H2). Both datasets share the same structure, with 31 variables describing the 40,060\n",
    "observations of H1 and 79,330 observations of H2. Each observation represents a hotel booking.  Since this is hotel real data, \n",
    "all data elements pertaining hotel or costumer identification were deleted. "
   ]
  },
  {
   "cell_type": "code",
   "execution_count": 7,
   "metadata": {},
   "outputs": [],
   "source": [
    "# Import libraries\n",
    "import pandas as pd\n",
    "import matplotlib.pyplot as plt\n",
    "import numpy as np\n",
    "import seaborn as sns \n",
    "import missingno as msno \n",
    "import datetime as dt\n",
    "np.random.seed (42) "
   ]
  },
  {
   "cell_type": "markdown",
   "metadata": {},
   "source": [
    "- importing our csv file into a pandas dataframe"
   ]
  },
  {
   "cell_type": "code",
   "execution_count": 8,
   "metadata": {},
   "outputs": [],
   "source": [
    "hotels=pd.read_csv('hotelsBookingDemand.csv')"
   ]
  },
  {
   "cell_type": "code",
   "execution_count": 9,
   "metadata": {},
   "outputs": [
    {
     "data": {
      "text/html": [
       "<div>\n",
       "<style scoped>\n",
       "    .dataframe tbody tr th:only-of-type {\n",
       "        vertical-align: middle;\n",
       "    }\n",
       "\n",
       "    .dataframe tbody tr th {\n",
       "        vertical-align: top;\n",
       "    }\n",
       "\n",
       "    .dataframe thead th {\n",
       "        text-align: right;\n",
       "    }\n",
       "</style>\n",
       "<table border=\"1\" class=\"dataframe\">\n",
       "  <thead>\n",
       "    <tr style=\"text-align: right;\">\n",
       "      <th></th>\n",
       "      <th>hotel</th>\n",
       "      <th>is_canceled</th>\n",
       "      <th>lead_time</th>\n",
       "      <th>arrival_date_year</th>\n",
       "      <th>arrival_date_month</th>\n",
       "      <th>arrival_date_week_number</th>\n",
       "      <th>arrival_date_day_of_month</th>\n",
       "      <th>stays_in_weekend_nights</th>\n",
       "      <th>stays_in_week_nights</th>\n",
       "      <th>adults</th>\n",
       "      <th>...</th>\n",
       "      <th>deposit_type</th>\n",
       "      <th>agent</th>\n",
       "      <th>company</th>\n",
       "      <th>days_in_waiting_list</th>\n",
       "      <th>customer_type</th>\n",
       "      <th>adr</th>\n",
       "      <th>required_car_parking_spaces</th>\n",
       "      <th>total_of_special_requests</th>\n",
       "      <th>reservation_status</th>\n",
       "      <th>reservation_status_date</th>\n",
       "    </tr>\n",
       "  </thead>\n",
       "  <tbody>\n",
       "    <tr>\n",
       "      <th>0</th>\n",
       "      <td>Resort Hotel</td>\n",
       "      <td>0</td>\n",
       "      <td>342</td>\n",
       "      <td>2015</td>\n",
       "      <td>July</td>\n",
       "      <td>27</td>\n",
       "      <td>1</td>\n",
       "      <td>0</td>\n",
       "      <td>0</td>\n",
       "      <td>2</td>\n",
       "      <td>...</td>\n",
       "      <td>No Deposit</td>\n",
       "      <td>NaN</td>\n",
       "      <td>NaN</td>\n",
       "      <td>0</td>\n",
       "      <td>Transient</td>\n",
       "      <td>0.0</td>\n",
       "      <td>0</td>\n",
       "      <td>0</td>\n",
       "      <td>Check-Out</td>\n",
       "      <td>2015-07-01</td>\n",
       "    </tr>\n",
       "    <tr>\n",
       "      <th>1</th>\n",
       "      <td>Resort Hotel</td>\n",
       "      <td>0</td>\n",
       "      <td>737</td>\n",
       "      <td>2015</td>\n",
       "      <td>July</td>\n",
       "      <td>27</td>\n",
       "      <td>1</td>\n",
       "      <td>0</td>\n",
       "      <td>0</td>\n",
       "      <td>2</td>\n",
       "      <td>...</td>\n",
       "      <td>No Deposit</td>\n",
       "      <td>NaN</td>\n",
       "      <td>NaN</td>\n",
       "      <td>0</td>\n",
       "      <td>Transient</td>\n",
       "      <td>0.0</td>\n",
       "      <td>0</td>\n",
       "      <td>0</td>\n",
       "      <td>Check-Out</td>\n",
       "      <td>2015-07-01</td>\n",
       "    </tr>\n",
       "    <tr>\n",
       "      <th>2</th>\n",
       "      <td>Resort Hotel</td>\n",
       "      <td>0</td>\n",
       "      <td>7</td>\n",
       "      <td>2015</td>\n",
       "      <td>July</td>\n",
       "      <td>27</td>\n",
       "      <td>1</td>\n",
       "      <td>0</td>\n",
       "      <td>1</td>\n",
       "      <td>1</td>\n",
       "      <td>...</td>\n",
       "      <td>No Deposit</td>\n",
       "      <td>NaN</td>\n",
       "      <td>NaN</td>\n",
       "      <td>0</td>\n",
       "      <td>Transient</td>\n",
       "      <td>75.0</td>\n",
       "      <td>0</td>\n",
       "      <td>0</td>\n",
       "      <td>Check-Out</td>\n",
       "      <td>2015-07-02</td>\n",
       "    </tr>\n",
       "    <tr>\n",
       "      <th>3</th>\n",
       "      <td>Resort Hotel</td>\n",
       "      <td>0</td>\n",
       "      <td>13</td>\n",
       "      <td>2015</td>\n",
       "      <td>July</td>\n",
       "      <td>27</td>\n",
       "      <td>1</td>\n",
       "      <td>0</td>\n",
       "      <td>1</td>\n",
       "      <td>1</td>\n",
       "      <td>...</td>\n",
       "      <td>No Deposit</td>\n",
       "      <td>304.0</td>\n",
       "      <td>NaN</td>\n",
       "      <td>0</td>\n",
       "      <td>Transient</td>\n",
       "      <td>75.0</td>\n",
       "      <td>0</td>\n",
       "      <td>0</td>\n",
       "      <td>Check-Out</td>\n",
       "      <td>2015-07-02</td>\n",
       "    </tr>\n",
       "    <tr>\n",
       "      <th>4</th>\n",
       "      <td>Resort Hotel</td>\n",
       "      <td>0</td>\n",
       "      <td>14</td>\n",
       "      <td>2015</td>\n",
       "      <td>July</td>\n",
       "      <td>27</td>\n",
       "      <td>1</td>\n",
       "      <td>0</td>\n",
       "      <td>2</td>\n",
       "      <td>2</td>\n",
       "      <td>...</td>\n",
       "      <td>No Deposit</td>\n",
       "      <td>240.0</td>\n",
       "      <td>NaN</td>\n",
       "      <td>0</td>\n",
       "      <td>Transient</td>\n",
       "      <td>98.0</td>\n",
       "      <td>0</td>\n",
       "      <td>1</td>\n",
       "      <td>Check-Out</td>\n",
       "      <td>2015-07-03</td>\n",
       "    </tr>\n",
       "  </tbody>\n",
       "</table>\n",
       "<p>5 rows × 32 columns</p>\n",
       "</div>"
      ],
      "text/plain": [
       "          hotel  is_canceled  lead_time  arrival_date_year arrival_date_month  \\\n",
       "0  Resort Hotel            0        342               2015               July   \n",
       "1  Resort Hotel            0        737               2015               July   \n",
       "2  Resort Hotel            0          7               2015               July   \n",
       "3  Resort Hotel            0         13               2015               July   \n",
       "4  Resort Hotel            0         14               2015               July   \n",
       "\n",
       "   arrival_date_week_number  arrival_date_day_of_month  \\\n",
       "0                        27                          1   \n",
       "1                        27                          1   \n",
       "2                        27                          1   \n",
       "3                        27                          1   \n",
       "4                        27                          1   \n",
       "\n",
       "   stays_in_weekend_nights  stays_in_week_nights  adults  ...  deposit_type  \\\n",
       "0                        0                     0       2  ...    No Deposit   \n",
       "1                        0                     0       2  ...    No Deposit   \n",
       "2                        0                     1       1  ...    No Deposit   \n",
       "3                        0                     1       1  ...    No Deposit   \n",
       "4                        0                     2       2  ...    No Deposit   \n",
       "\n",
       "   agent company days_in_waiting_list customer_type   adr  \\\n",
       "0    NaN     NaN                    0     Transient   0.0   \n",
       "1    NaN     NaN                    0     Transient   0.0   \n",
       "2    NaN     NaN                    0     Transient  75.0   \n",
       "3  304.0     NaN                    0     Transient  75.0   \n",
       "4  240.0     NaN                    0     Transient  98.0   \n",
       "\n",
       "   required_car_parking_spaces  total_of_special_requests  reservation_status  \\\n",
       "0                            0                          0           Check-Out   \n",
       "1                            0                          0           Check-Out   \n",
       "2                            0                          0           Check-Out   \n",
       "3                            0                          0           Check-Out   \n",
       "4                            0                          1           Check-Out   \n",
       "\n",
       "  reservation_status_date  \n",
       "0              2015-07-01  \n",
       "1              2015-07-01  \n",
       "2              2015-07-02  \n",
       "3              2015-07-02  \n",
       "4              2015-07-03  \n",
       "\n",
       "[5 rows x 32 columns]"
      ]
     },
     "execution_count": 9,
     "metadata": {},
     "output_type": "execute_result"
    }
   ],
   "source": [
    "hotels.head()"
   ]
  },
  {
   "cell_type": "code",
   "execution_count": 10,
   "metadata": {},
   "outputs": [
    {
     "data": {
      "text/plain": [
       "hotel                              object\n",
       "is_canceled                         int64\n",
       "lead_time                           int64\n",
       "arrival_date_year                   int64\n",
       "arrival_date_month                 object\n",
       "arrival_date_week_number            int64\n",
       "arrival_date_day_of_month           int64\n",
       "stays_in_weekend_nights             int64\n",
       "stays_in_week_nights                int64\n",
       "adults                              int64\n",
       "children                          float64\n",
       "babies                              int64\n",
       "meal                               object\n",
       "country                            object\n",
       "market_segment                     object\n",
       "distribution_channel               object\n",
       "is_repeated_guest                   int64\n",
       "previous_cancellations              int64\n",
       "previous_bookings_not_canceled      int64\n",
       "reserved_room_type                 object\n",
       "assigned_room_type                 object\n",
       "booking_changes                     int64\n",
       "deposit_type                       object\n",
       "agent                             float64\n",
       "company                           float64\n",
       "days_in_waiting_list                int64\n",
       "customer_type                      object\n",
       "adr                               float64\n",
       "required_car_parking_spaces         int64\n",
       "total_of_special_requests           int64\n",
       "reservation_status                 object\n",
       "reservation_status_date            object\n",
       "dtype: object"
      ]
     },
     "execution_count": 10,
     "metadata": {},
     "output_type": "execute_result"
    }
   ],
   "source": [
    "hotels.dtypes"
   ]
  },
  {
   "cell_type": "code",
   "execution_count": 11,
   "metadata": {},
   "outputs": [
    {
     "name": "stdout",
     "output_type": "stream",
     "text": [
      "<class 'pandas.core.frame.DataFrame'>\n",
      "RangeIndex: 119390 entries, 0 to 119389\n",
      "Data columns (total 32 columns):\n",
      " #   Column                          Non-Null Count   Dtype  \n",
      "---  ------                          --------------   -----  \n",
      " 0   hotel                           119390 non-null  object \n",
      " 1   is_canceled                     119390 non-null  int64  \n",
      " 2   lead_time                       119390 non-null  int64  \n",
      " 3   arrival_date_year               119390 non-null  int64  \n",
      " 4   arrival_date_month              119390 non-null  object \n",
      " 5   arrival_date_week_number        119390 non-null  int64  \n",
      " 6   arrival_date_day_of_month       119390 non-null  int64  \n",
      " 7   stays_in_weekend_nights         119390 non-null  int64  \n",
      " 8   stays_in_week_nights            119390 non-null  int64  \n",
      " 9   adults                          119390 non-null  int64  \n",
      " 10  children                        119386 non-null  float64\n",
      " 11  babies                          119390 non-null  int64  \n",
      " 12  meal                            119390 non-null  object \n",
      " 13  country                         118902 non-null  object \n",
      " 14  market_segment                  119390 non-null  object \n",
      " 15  distribution_channel            119390 non-null  object \n",
      " 16  is_repeated_guest               119390 non-null  int64  \n",
      " 17  previous_cancellations          119390 non-null  int64  \n",
      " 18  previous_bookings_not_canceled  119390 non-null  int64  \n",
      " 19  reserved_room_type              119390 non-null  object \n",
      " 20  assigned_room_type              119390 non-null  object \n",
      " 21  booking_changes                 119390 non-null  int64  \n",
      " 22  deposit_type                    119390 non-null  object \n",
      " 23  agent                           103050 non-null  float64\n",
      " 24  company                         6797 non-null    float64\n",
      " 25  days_in_waiting_list            119390 non-null  int64  \n",
      " 26  customer_type                   119390 non-null  object \n",
      " 27  adr                             119390 non-null  float64\n",
      " 28  required_car_parking_spaces     119390 non-null  int64  \n",
      " 29  total_of_special_requests       119390 non-null  int64  \n",
      " 30  reservation_status              119390 non-null  object \n",
      " 31  reservation_status_date         119390 non-null  object \n",
      "dtypes: float64(4), int64(16), object(12)\n",
      "memory usage: 29.1+ MB\n"
     ]
    }
   ],
   "source": [
    "hotels.info()"
   ]
  },
  {
   "cell_type": "markdown",
   "metadata": {},
   "source": [
    "- 1. Verify missing values "
   ]
  },
  {
   "cell_type": "code",
   "execution_count": 12,
   "metadata": {},
   "outputs": [
    {
     "data": {
      "text/plain": [
       "hotel                                  0\n",
       "is_canceled                            0\n",
       "lead_time                              0\n",
       "arrival_date_year                      0\n",
       "arrival_date_month                     0\n",
       "arrival_date_week_number               0\n",
       "arrival_date_day_of_month              0\n",
       "stays_in_weekend_nights                0\n",
       "stays_in_week_nights                   0\n",
       "adults                                 0\n",
       "children                               4\n",
       "babies                                 0\n",
       "meal                                   0\n",
       "country                              488\n",
       "market_segment                         0\n",
       "distribution_channel                   0\n",
       "is_repeated_guest                      0\n",
       "previous_cancellations                 0\n",
       "previous_bookings_not_canceled         0\n",
       "reserved_room_type                     0\n",
       "assigned_room_type                     0\n",
       "booking_changes                        0\n",
       "deposit_type                           0\n",
       "agent                              16340\n",
       "company                           112593\n",
       "days_in_waiting_list                   0\n",
       "customer_type                          0\n",
       "adr                                    0\n",
       "required_car_parking_spaces            0\n",
       "total_of_special_requests              0\n",
       "reservation_status                     0\n",
       "reservation_status_date                0\n",
       "dtype: int64"
      ]
     },
     "execution_count": 12,
     "metadata": {},
     "output_type": "execute_result"
    }
   ],
   "source": [
    "hotels.isna().sum()"
   ]
  },
  {
   "cell_type": "markdown",
   "metadata": {},
   "source": [
    "- we have some missing values that we need to take care of"
   ]
  },
  {
   "cell_type": "code",
   "execution_count": 13,
   "metadata": {},
   "outputs": [
    {
     "data": {
      "image/png": "[encoded data removed]",
      "text/plain": [
       "<Figure size 1800x720 with 2 Axes>"
      ]
     },
     "metadata": {
      "needs_background": "light"
     },
     "output_type": "display_data"
    }
   ],
   "source": [
    "msno.matrix(hotels)\n",
    "plt.show()"
   ]
  },
  {
   "cell_type": "code",
   "execution_count": 14,
   "metadata": {},
   "outputs": [
    {
     "data": {
      "image/png": "[encoded data removed]",
      "text/plain": [
       "<Figure size 1728x720 with 3 Axes>"
      ]
     },
     "metadata": {
      "needs_background": "light"
     },
     "output_type": "display_data"
    }
   ],
   "source": [
    "msno.bar(hotels)\n",
    "plt.show()"
   ]
  },
  {
   "cell_type": "markdown",
   "metadata": {},
   "source": [
    "these missingno plots help us visualize our missing data and get a better understanding of it,\n",
    "and it's very useful for detecting any relationship between the missing data in the columns"
   ]
  },
  {
   "cell_type": "markdown",
   "metadata": {},
   "source": [
    "#### . Drop rows having missing values except for variables like Agent or Company, “NULL” is presented as one of the categories"
   ]
  },
  {
   "cell_type": "code",
   "execution_count": 15,
   "metadata": {},
   "outputs": [],
   "source": [
    "hotels.dropna(subset=['country', 'children'], inplace=True,axis='rows')\n",
    "hotels.reset_index(drop=True, inplace=True)"
   ]
  },
  {
   "cell_type": "code",
   "execution_count": 16,
   "metadata": {},
   "outputs": [
    {
     "data": {
      "text/plain": [
       "array([ nan, 110., 113., 270., 178., 240., 154., 144., 307., 268.,  59.,\n",
       "       204., 312., 318.,  94., 174., 274., 195., 223., 317., 281., 118.,\n",
       "        53., 286.,  12.,  47., 324., 342., 373., 371.,  86.,  82., 218.,\n",
       "        88.,  31., 397., 392., 405., 331., 367.,  20.,  83., 416.,  51.,\n",
       "       395., 102.,  34.,  84., 360., 394., 382., 461., 478., 112., 486.,\n",
       "       421.,   9., 308., 135., 224., 504., 269., 356., 498., 390., 513.,\n",
       "       203., 263., 477., 521., 169., 515., 445., 337., 251., 428., 292.,\n",
       "       388., 130., 250., 355., 254., 543., 531., 528., 120.,  81., 116.,\n",
       "       530., 103.,  62.,  39.,  16.,  61.,  92., 501., 291., 290., 192.,\n",
       "        43., 465., 287., 297., 207., 437., 165., 329., 272.,  28.,  77.,\n",
       "       482., 200.,  42., 338., 108.,  72., 246., 319., 146., 159., 380.,\n",
       "       323., 511., 407., 325., 278.,  80., 403., 399.,  14., 137., 343.,\n",
       "       346., 347., 349., 289., 351., 353.,  54.,  99., 358., 361., 362.,\n",
       "       366., 372., 365., 277., 109., 377., 379.,  22., 378., 330., 364.,\n",
       "       401., 232., 255., 384., 167., 212., 514., 391., 400., 376., 402.,\n",
       "       396., 302., 398., 225.,   6., 370., 369., 409., 168., 104., 408.,\n",
       "       413., 148.,  10., 333., 419., 415., 424., 425., 423., 422., 435.,\n",
       "       439., 442., 282., 448., 443., 454., 444.,  52., 459., 458., 456.,\n",
       "       460., 447., 470., 466., 484., 184., 485.,  32., 487., 491., 490.,\n",
       "       494., 193., 516., 496., 499.,  29.,  78., 520., 507., 506., 512.,\n",
       "       126.,  64., 242., 518., 523., 539., 534., 436., 525., 541.,  40.,\n",
       "       455., 410.,  45.,  38.,  49.,  48.,  67.,  68.,  65.,  91.,  37.,\n",
       "         8., 179., 209., 219., 221., 227., 153., 186., 253., 202., 216.,\n",
       "       275., 233., 280., 309., 321.,  93., 316.,  85., 107., 350., 334.,\n",
       "       348., 150.,  73., 385., 418., 197., 450., 452., 115.,  46.,  76.,\n",
       "        96., 100., 105., 101., 122.,  11., 139., 142., 127., 143., 140.,\n",
       "       149., 163., 160., 180., 238., 183., 222., 185., 217., 215., 213.,\n",
       "       237., 230., 234.,  35., 245., 158., 258., 259., 260., 411., 257.,\n",
       "       271.,  18., 106., 210., 273.,  71., 284., 301., 305., 293., 264.,\n",
       "       311., 304., 313., 288., 320., 314., 332., 341., 352., 243., 383.,\n",
       "       368., 393., 132., 220., 412., 420., 426., 417., 429., 433., 446.,\n",
       "       357., 479., 483., 489., 229., 481., 497., 451., 492.])"
      ]
     },
     "execution_count": 16,
     "metadata": {},
     "output_type": "execute_result"
    }
   ],
   "source": [
    "hotels['company'].unique()"
   ]
  },
  {
   "cell_type": "code",
   "execution_count": 17,
   "metadata": {},
   "outputs": [
    {
     "data": {
      "text/plain": [
       "array([ nan, 304., 240., 303.,  15., 241.,   8., 250., 115.,   5., 175.,\n",
       "       134., 156., 243., 242.,   3., 105.,  40., 147., 306., 184.,  96.,\n",
       "         2., 127.,  95., 146.,   9., 177.,   6., 143., 244., 149., 167.,\n",
       "       300., 171., 305.,  67., 196., 152., 142., 261., 104.,  36.,  26.,\n",
       "        29., 258., 110.,  71., 181.,  88., 251., 275.,  69., 248., 208.,\n",
       "       256., 314., 126., 281., 273., 253., 185., 330., 334., 328., 326.,\n",
       "       321., 324., 313.,  38., 155.,  68., 335., 308., 332.,  94., 348.,\n",
       "       310., 339., 375.,  66., 327., 387., 298.,  91., 245., 385., 257.,\n",
       "       393., 168., 405., 249., 315.,  75., 128., 307.,  11., 436.,   1.,\n",
       "       201., 183., 223., 368., 336., 291., 464., 411., 481.,  10., 154.,\n",
       "       468., 410., 390., 440., 495., 492., 493., 434.,  57., 531., 420.,\n",
       "       483., 526., 472., 429.,  16.,  34., 252., 270.,  47., 114., 301.,\n",
       "       193., 182., 135., 350., 195., 352., 355., 159., 139., 363., 384.,\n",
       "       360., 331., 367.,  64.,  78., 406., 163., 414., 333., 427., 431.,\n",
       "       430., 426., 438., 433., 418., 441., 282., 432.,  72., 450., 180.,\n",
       "       454., 455.,  59., 451., 254., 358., 469., 165., 467., 510., 337.,\n",
       "       476., 502., 527., 479., 508., 535., 302., 497., 187.,  13.,   7.,\n",
       "        27.,  14.,  22.,  17.,  28.,  42.,  20.,  19.,  45.,  37.,  61.,\n",
       "        39.,  21.,  24.,  41.,  50.,  30.,  54.,  52.,  12.,  44.,  31.,\n",
       "        83.,  32.,  63.,  60.,  55.,  56.,  89.,  87., 118.,  86.,  85.,\n",
       "       210., 214., 129., 179., 138., 174., 170., 153.,  93., 151., 119.,\n",
       "        35., 173.,  58.,  53., 133.,  79., 235., 192., 191., 236., 162.,\n",
       "       215., 157., 287., 132., 234.,  98.,  77., 103., 107., 262., 220.,\n",
       "       121., 205., 378.,  23., 296., 290., 229.,  33., 286., 276., 425.,\n",
       "       484., 323., 403., 219., 394., 509., 111., 423.,   4.,  70.,  82.,\n",
       "        81.,  74.,  92.,  99.,  90., 112., 117., 106., 148., 158., 144.,\n",
       "       211., 213., 216., 232., 150., 267., 227., 247., 278., 280., 285.,\n",
       "       289., 269., 295., 265., 288., 122., 294., 325., 341., 344., 346.,\n",
       "       359., 283., 364., 370., 371.,  25., 141., 391., 397., 416., 404.,\n",
       "       299., 197.,  73., 354., 444., 408., 461., 388., 453., 459., 474.,\n",
       "       475., 480., 449.])"
      ]
     },
     "execution_count": 17,
     "metadata": {},
     "output_type": "execute_result"
    }
   ],
   "source": [
    "hotels['agent'].unique()"
   ]
  },
  {
   "cell_type": "markdown",
   "metadata": {},
   "source": [
    "#### 3. Change arrival year, month and day feature to datetime format called arrival_date. "
   ]
  },
  {
   "cell_type": "code",
   "execution_count": 18,
   "metadata": {},
   "outputs": [
    {
     "data": {
      "text/html": [
       "<div>\n",
       "<style scoped>\n",
       "    .dataframe tbody tr th:only-of-type {\n",
       "        vertical-align: middle;\n",
       "    }\n",
       "\n",
       "    .dataframe tbody tr th {\n",
       "        vertical-align: top;\n",
       "    }\n",
       "\n",
       "    .dataframe thead th {\n",
       "        text-align: right;\n",
       "    }\n",
       "</style>\n",
       "<table border=\"1\" class=\"dataframe\">\n",
       "  <thead>\n",
       "    <tr style=\"text-align: right;\">\n",
       "      <th></th>\n",
       "      <th>arrival_date_year</th>\n",
       "      <th>arrival_date_month</th>\n",
       "      <th>arrival_date_day_of_month</th>\n",
       "    </tr>\n",
       "  </thead>\n",
       "  <tbody>\n",
       "    <tr>\n",
       "      <th>0</th>\n",
       "      <td>2015</td>\n",
       "      <td>July</td>\n",
       "      <td>1</td>\n",
       "    </tr>\n",
       "    <tr>\n",
       "      <th>1</th>\n",
       "      <td>2015</td>\n",
       "      <td>July</td>\n",
       "      <td>1</td>\n",
       "    </tr>\n",
       "    <tr>\n",
       "      <th>2</th>\n",
       "      <td>2015</td>\n",
       "      <td>July</td>\n",
       "      <td>1</td>\n",
       "    </tr>\n",
       "    <tr>\n",
       "      <th>3</th>\n",
       "      <td>2015</td>\n",
       "      <td>July</td>\n",
       "      <td>1</td>\n",
       "    </tr>\n",
       "    <tr>\n",
       "      <th>4</th>\n",
       "      <td>2015</td>\n",
       "      <td>July</td>\n",
       "      <td>1</td>\n",
       "    </tr>\n",
       "  </tbody>\n",
       "</table>\n",
       "</div>"
      ],
      "text/plain": [
       "   arrival_date_year arrival_date_month  arrival_date_day_of_month\n",
       "0               2015               July                          1\n",
       "1               2015               July                          1\n",
       "2               2015               July                          1\n",
       "3               2015               July                          1\n",
       "4               2015               July                          1"
      ]
     },
     "execution_count": 18,
     "metadata": {},
     "output_type": "execute_result"
    }
   ],
   "source": [
    "hotels[['arrival_date_year', 'arrival_date_month','arrival_date_day_of_month']].head()"
   ]
  },
  {
   "cell_type": "code",
   "execution_count": 126,
   "metadata": {},
   "outputs": [
    {
     "data": {
      "text/plain": [
       "array([ 7,  8,  9, 10, 11, 12,  1,  2,  3,  4,  5,  6])"
      ]
     },
     "execution_count": 126,
     "metadata": {},
     "output_type": "execute_result"
    }
   ],
   "source": [
    "# first we need to encode the months column to numbers\n",
    "mappings = {'January': '1', \n",
    "            'February': '2',\n",
    "            'March': '3',\n",
    "            'April': '4',\n",
    "            'May': '5',\n",
    "            'June': '6',\n",
    "            'July': '7',\n",
    "            'August': '8',\n",
    "            'September': '9',\n",
    "            'October': '10',\n",
    "            'November': '11',\n",
    "            'December': '12'}\n",
    "\n",
    "hotels['arrival_date_month'] = hotels['arrival_date_month'].replace(mappings)\n",
    "hotels['arrival_date_month'].unique()"
   ]
  },
  {
   "cell_type": "code",
   "execution_count": 21,
   "metadata": {},
   "outputs": [],
   "source": [
    "#transforming months to int data type\n",
    "hotels['arrival_date_month'] = hotels['arrival_date_month'].astype('int')"
   ]
  },
  {
   "cell_type": "code",
   "execution_count": 22,
   "metadata": {},
   "outputs": [
    {
     "data": {
      "text/plain": [
       "0        2015-07-01\n",
       "1        2015-07-01\n",
       "2        2015-07-01\n",
       "3        2015-07-01\n",
       "4        2015-07-01\n",
       "            ...    \n",
       "118893   2017-08-30\n",
       "118894   2017-08-31\n",
       "118895   2017-08-31\n",
       "118896   2017-08-31\n",
       "118897   2017-08-29\n",
       "Name: arrival_date, Length: 118898, dtype: datetime64[ns]"
      ]
     },
     "execution_count": 22,
     "metadata": {},
     "output_type": "execute_result"
    }
   ],
   "source": [
    "#pd.to_datetime(hotels[['arrival_date_year', 'arrival_date_month','arrival_date_day_of_month']],format = '%Y,%m,%d')\n",
    "hotels['arrival_date']=pd.to_datetime((hotels.arrival_date_year*10000+hotels.arrival_date_month*100+hotels.arrival_date_day_of_month).apply(str),\n",
    "                                      format='%Y-%m-%d')\n",
    "hotels['arrival_date']"
   ]
  },
  {
   "cell_type": "markdown",
   "metadata": {},
   "source": [
    "#### 4. Verify that the timestamp of the variable reservation_status_date must occur after or at the same date as the input variable arrival_date "
   ]
  },
  {
   "cell_type": "code",
   "execution_count": 23,
   "metadata": {},
   "outputs": [],
   "source": [
    "hotels['reservation_status_date'] = pd.to_datetime(hotels['reservation_status_date'], format = '%Y-%m-%d')"
   ]
  },
  {
   "cell_type": "code",
   "execution_count": 24,
   "metadata": {},
   "outputs": [],
   "source": [
    "checkout_index=(hotels['reservation_status_date'][hotels['reservation_status']=='Check-Out']).index"
   ]
  },
  {
   "cell_type": "code",
   "execution_count": 25,
   "metadata": {},
   "outputs": [
    {
     "data": {
      "text/plain": [
       "array([False])"
      ]
     },
     "execution_count": 25,
     "metadata": {},
     "output_type": "execute_result"
    }
   ],
   "source": [
    "inconsistent_dates=(hotels['arrival_date'][checkout_index])>hotels['reservation_status_date'][checkout_index]\n",
    "inconsistent_dates.unique()"
   ]
  },
  {
   "cell_type": "markdown",
   "metadata": {},
   "source": [
    " we can see that there are no arrival dates after the checkout so we have nothing to change in the data set"
   ]
  },
  {
   "cell_type": "markdown",
   "metadata": {},
   "source": [
    "#### 5. Propose a preprocessing to be made on this dataset. "
   ]
  },
  {
   "cell_type": "code",
   "execution_count": 26,
   "metadata": {},
   "outputs": [
    {
     "data": {
      "text/plain": [
       "hotel                                     object\n",
       "is_canceled                                int64\n",
       "lead_time                                  int64\n",
       "arrival_date_year                          int64\n",
       "arrival_date_month                         int32\n",
       "arrival_date_week_number                   int64\n",
       "arrival_date_day_of_month                  int64\n",
       "stays_in_weekend_nights                    int64\n",
       "stays_in_week_nights                       int64\n",
       "adults                                     int64\n",
       "children                                 float64\n",
       "babies                                     int64\n",
       "meal                                      object\n",
       "country                                   object\n",
       "market_segment                            object\n",
       "distribution_channel                      object\n",
       "is_repeated_guest                          int64\n",
       "previous_cancellations                     int64\n",
       "previous_bookings_not_canceled             int64\n",
       "reserved_room_type                        object\n",
       "assigned_room_type                        object\n",
       "booking_changes                            int64\n",
       "deposit_type                              object\n",
       "agent                                    float64\n",
       "company                                  float64\n",
       "days_in_waiting_list                       int64\n",
       "customer_type                             object\n",
       "adr                                      float64\n",
       "required_car_parking_spaces                int64\n",
       "total_of_special_requests                  int64\n",
       "reservation_status                        object\n",
       "reservation_status_date           datetime64[ns]\n",
       "arrival_date                      datetime64[ns]\n",
       "dtype: object"
      ]
     },
     "execution_count": 26,
     "metadata": {},
     "output_type": "execute_result"
    }
   ],
   "source": [
    "hotels.dtypes"
   ]
  },
  {
   "cell_type": "markdown",
   "metadata": {},
   "source": [
    "we can see that all column data types are correct, we can standarize numerical data to help the ML model algorithm"
   ]
  },
  {
   "cell_type": "markdown",
   "metadata": {},
   "source": [
    "- impute NULL in agent and category columns with 0, so that we can use the column in modeling"
   ]
  },
  {
   "cell_type": "code",
   "execution_count": 28,
   "metadata": {},
   "outputs": [],
   "source": [
    "from sklearn.impute import SimpleImputer\n",
    "imputer = SimpleImputer(missing_values=np.NaN, strategy='constant', fill_value=0)\n",
    "imputer = imputer.fit(hotels[['agent']])\n",
    "hotels['agent'] = imputer.transform(hotels[['agent']])"
   ]
  },
  {
   "cell_type": "code",
   "execution_count": 29,
   "metadata": {},
   "outputs": [],
   "source": [
    "imputer = SimpleImputer(missing_values=np.NaN, strategy='constant', fill_value=0)\n",
    "imputer = imputer.fit(hotels[['company']])\n",
    "hotels['company'] = imputer.transform(hotels[['company']])\n",
    "# or we could have just used \n",
    "#hotels = hotels.fillna({'agent':0,'company':0})\n",
    "# but simple imputer is way faster"
   ]
  },
  {
   "cell_type": "markdown",
   "metadata": {},
   "source": [
    "- replace undefined with SC in meal column"
   ]
  },
  {
   "cell_type": "code",
   "execution_count": 31,
   "metadata": {},
   "outputs": [
    {
     "data": {
      "text/plain": [
       "array(['BB', 'FB', 'HB', 'SC', 'Undefined'], dtype=object)"
      ]
     },
     "execution_count": 31,
     "metadata": {},
     "output_type": "execute_result"
    }
   ],
   "source": [
    "hotels['meal'].unique()"
   ]
  },
  {
   "cell_type": "markdown",
   "metadata": {},
   "source": [
    "in the description of the dataset SC is equivalent to undefined,but we can see both here, we will replace undefined with SC"
   ]
  },
  {
   "cell_type": "code",
   "execution_count": 33,
   "metadata": {},
   "outputs": [
    {
     "data": {
      "text/plain": [
       "array(['BB', 'FB', 'HB', 'SC'], dtype=object)"
      ]
     },
     "execution_count": 33,
     "metadata": {},
     "output_type": "execute_result"
    }
   ],
   "source": [
    "# Replace values and collapse data\n",
    "hotels['meal'] = hotels['meal'].replace({'Undefined': 'SC'})\n",
    "hotels['meal'].unique()"
   ]
  },
  {
   "cell_type": "markdown",
   "metadata": {},
   "source": [
    "- distribution channel"
   ]
  },
  {
   "cell_type": "code",
   "execution_count": 34,
   "metadata": {},
   "outputs": [
    {
     "data": {
      "text/plain": [
       "Int64Index([14185], dtype='int64')"
      ]
     },
     "execution_count": 34,
     "metadata": {},
     "output_type": "execute_result"
    }
   ],
   "source": [
    "d=hotels[hotels['distribution_channel']=='Undefined'].index\n",
    "d"
   ]
  },
  {
   "cell_type": "markdown",
   "metadata": {},
   "source": [
    "we have one row with undefined distribution_channel, we will delete that row"
   ]
  },
  {
   "cell_type": "code",
   "execution_count": 35,
   "metadata": {},
   "outputs": [],
   "source": [
    "hotels.drop(d, inplace=True)\n",
    "hotels.reset_index(drop=True, inplace=True)"
   ]
  },
  {
   "cell_type": "markdown",
   "metadata": {},
   "source": [
    "- we have also observed that some colums have 0 in adults, children and babies which doesn't make any sense\n",
    "that's why we decided to remove those columns"
   ]
  },
  {
   "cell_type": "code",
   "execution_count": 36,
   "metadata": {},
   "outputs": [],
   "source": [
    "z=hotels[hotels['adults']==0]\n",
    "z=z[z['children']==0].index\n",
    "hotels.drop(z,inplace=True)\n",
    "hotels.reset_index(drop=True, inplace=True)"
   ]
  },
  {
   "cell_type": "markdown",
   "metadata": {},
   "source": [
    "### numerical data standarization"
   ]
  },
  {
   "cell_type": "code",
   "execution_count": 37,
   "metadata": {},
   "outputs": [
    {
     "name": "stdout",
     "output_type": "stream",
     "text": [
      "737\n",
      "10\n"
     ]
    }
   ],
   "source": [
    "print(hotels['lead_time'].max())\n",
    "print(hotels['babies'].max())"
   ]
  },
  {
   "cell_type": "markdown",
   "metadata": {},
   "source": [
    " numericl data in our data set have different ranges so it is intresting to standarize our data"
   ]
  },
  {
   "cell_type": "code",
   "execution_count": 38,
   "metadata": {},
   "outputs": [],
   "source": [
    "from sklearn.preprocessing import StandardScaler\n",
    "\n",
    "columns_to_standarize=['lead_time','arrival_date_week_number','arrival_date_day_of_month', 'stays_in_weekend_nights', 'stays_in_week_nights','adults','children','babies',\n",
    "                       'previous_cancellations','previous_bookings_not_canceled','booking_changes','days_in_waiting_list',\n",
    "                       'adr','required_car_parking_spaces','total_of_special_requests']\n",
    "scaled_data=hotels.copy()\n",
    "\n",
    "scaler = StandardScaler()\n",
    "scaled_columns = scaler.fit_transform(scaled_data[columns_to_standarize].values)\n",
    "\n",
    "scaled_data[columns_to_standarize]=scaled_columns"
   ]
  },
  {
   "cell_type": "code",
   "execution_count": 39,
   "metadata": {},
   "outputs": [
    {
     "data": {
      "text/html": [
       "<div>\n",
       "<style scoped>\n",
       "    .dataframe tbody tr th:only-of-type {\n",
       "        vertical-align: middle;\n",
       "    }\n",
       "\n",
       "    .dataframe tbody tr th {\n",
       "        vertical-align: top;\n",
       "    }\n",
       "\n",
       "    .dataframe thead th {\n",
       "        text-align: right;\n",
       "    }\n",
       "</style>\n",
       "<table border=\"1\" class=\"dataframe\">\n",
       "  <thead>\n",
       "    <tr style=\"text-align: right;\">\n",
       "      <th></th>\n",
       "      <th>hotel</th>\n",
       "      <th>is_canceled</th>\n",
       "      <th>lead_time</th>\n",
       "      <th>arrival_date_year</th>\n",
       "      <th>arrival_date_month</th>\n",
       "      <th>arrival_date_week_number</th>\n",
       "      <th>arrival_date_day_of_month</th>\n",
       "      <th>stays_in_weekend_nights</th>\n",
       "      <th>stays_in_week_nights</th>\n",
       "      <th>adults</th>\n",
       "      <th>...</th>\n",
       "      <th>agent</th>\n",
       "      <th>company</th>\n",
       "      <th>days_in_waiting_list</th>\n",
       "      <th>customer_type</th>\n",
       "      <th>adr</th>\n",
       "      <th>required_car_parking_spaces</th>\n",
       "      <th>total_of_special_requests</th>\n",
       "      <th>reservation_status</th>\n",
       "      <th>reservation_status_date</th>\n",
       "      <th>arrival_date</th>\n",
       "    </tr>\n",
       "  </thead>\n",
       "  <tbody>\n",
       "    <tr>\n",
       "      <th>0</th>\n",
       "      <td>Resort Hotel</td>\n",
       "      <td>0</td>\n",
       "      <td>2.222308</td>\n",
       "      <td>2015</td>\n",
       "      <td>7</td>\n",
       "      <td>-0.012151</td>\n",
       "      <td>-1.685701</td>\n",
       "      <td>-0.935105</td>\n",
       "      <td>-1.323873</td>\n",
       "      <td>0.241778</td>\n",
       "      <td>...</td>\n",
       "      <td>0.0</td>\n",
       "      <td>0.0</td>\n",
       "      <td>-0.132175</td>\n",
       "      <td>Transient</td>\n",
       "      <td>-2.026874</td>\n",
       "      <td>-0.253493</td>\n",
       "      <td>-0.721263</td>\n",
       "      <td>Check-Out</td>\n",
       "      <td>2015-07-01</td>\n",
       "      <td>2015-07-01</td>\n",
       "    </tr>\n",
       "    <tr>\n",
       "      <th>1</th>\n",
       "      <td>Resort Hotel</td>\n",
       "      <td>0</td>\n",
       "      <td>5.916822</td>\n",
       "      <td>2015</td>\n",
       "      <td>7</td>\n",
       "      <td>-0.012151</td>\n",
       "      <td>-1.685701</td>\n",
       "      <td>-0.935105</td>\n",
       "      <td>-1.323873</td>\n",
       "      <td>0.241778</td>\n",
       "      <td>...</td>\n",
       "      <td>0.0</td>\n",
       "      <td>0.0</td>\n",
       "      <td>-0.132175</td>\n",
       "      <td>Transient</td>\n",
       "      <td>-2.026874</td>\n",
       "      <td>-0.253493</td>\n",
       "      <td>-0.721263</td>\n",
       "      <td>Check-Out</td>\n",
       "      <td>2015-07-01</td>\n",
       "      <td>2015-07-01</td>\n",
       "    </tr>\n",
       "    <tr>\n",
       "      <th>2</th>\n",
       "      <td>Resort Hotel</td>\n",
       "      <td>0</td>\n",
       "      <td>-0.911014</td>\n",
       "      <td>2015</td>\n",
       "      <td>7</td>\n",
       "      <td>-0.012151</td>\n",
       "      <td>-1.685701</td>\n",
       "      <td>-0.935105</td>\n",
       "      <td>-0.794518</td>\n",
       "      <td>-1.498269</td>\n",
       "      <td>...</td>\n",
       "      <td>0.0</td>\n",
       "      <td>0.0</td>\n",
       "      <td>-0.132175</td>\n",
       "      <td>Transient</td>\n",
       "      <td>-0.538471</td>\n",
       "      <td>-0.253493</td>\n",
       "      <td>-0.721263</td>\n",
       "      <td>Check-Out</td>\n",
       "      <td>2015-07-02</td>\n",
       "      <td>2015-07-01</td>\n",
       "    </tr>\n",
       "    <tr>\n",
       "      <th>3</th>\n",
       "      <td>Resort Hotel</td>\n",
       "      <td>0</td>\n",
       "      <td>-0.854895</td>\n",
       "      <td>2015</td>\n",
       "      <td>7</td>\n",
       "      <td>-0.012151</td>\n",
       "      <td>-1.685701</td>\n",
       "      <td>-0.935105</td>\n",
       "      <td>-0.794518</td>\n",
       "      <td>-1.498269</td>\n",
       "      <td>...</td>\n",
       "      <td>304.0</td>\n",
       "      <td>0.0</td>\n",
       "      <td>-0.132175</td>\n",
       "      <td>Transient</td>\n",
       "      <td>-0.538471</td>\n",
       "      <td>-0.253493</td>\n",
       "      <td>-0.721263</td>\n",
       "      <td>Check-Out</td>\n",
       "      <td>2015-07-02</td>\n",
       "      <td>2015-07-01</td>\n",
       "    </tr>\n",
       "    <tr>\n",
       "      <th>4</th>\n",
       "      <td>Resort Hotel</td>\n",
       "      <td>0</td>\n",
       "      <td>-0.845542</td>\n",
       "      <td>2015</td>\n",
       "      <td>7</td>\n",
       "      <td>-0.012151</td>\n",
       "      <td>-1.685701</td>\n",
       "      <td>-0.935105</td>\n",
       "      <td>-0.265162</td>\n",
       "      <td>0.241778</td>\n",
       "      <td>...</td>\n",
       "      <td>240.0</td>\n",
       "      <td>0.0</td>\n",
       "      <td>-0.132175</td>\n",
       "      <td>Transient</td>\n",
       "      <td>-0.082028</td>\n",
       "      <td>-0.253493</td>\n",
       "      <td>0.540203</td>\n",
       "      <td>Check-Out</td>\n",
       "      <td>2015-07-03</td>\n",
       "      <td>2015-07-01</td>\n",
       "    </tr>\n",
       "    <tr>\n",
       "      <th>...</th>\n",
       "      <td>...</td>\n",
       "      <td>...</td>\n",
       "      <td>...</td>\n",
       "      <td>...</td>\n",
       "      <td>...</td>\n",
       "      <td>...</td>\n",
       "      <td>...</td>\n",
       "      <td>...</td>\n",
       "      <td>...</td>\n",
       "      <td>...</td>\n",
       "      <td>...</td>\n",
       "      <td>...</td>\n",
       "      <td>...</td>\n",
       "      <td>...</td>\n",
       "      <td>...</td>\n",
       "      <td>...</td>\n",
       "      <td>...</td>\n",
       "      <td>...</td>\n",
       "      <td>...</td>\n",
       "      <td>...</td>\n",
       "      <td>...</td>\n",
       "    </tr>\n",
       "    <tr>\n",
       "      <th>118722</th>\n",
       "      <td>City Hotel</td>\n",
       "      <td>0</td>\n",
       "      <td>-0.761363</td>\n",
       "      <td>2017</td>\n",
       "      <td>8</td>\n",
       "      <td>0.576674</td>\n",
       "      <td>1.617126</td>\n",
       "      <td>1.079562</td>\n",
       "      <td>1.322906</td>\n",
       "      <td>0.241778</td>\n",
       "      <td>...</td>\n",
       "      <td>394.0</td>\n",
       "      <td>0.0</td>\n",
       "      <td>-0.132175</td>\n",
       "      <td>Transient</td>\n",
       "      <td>-0.118940</td>\n",
       "      <td>-0.253493</td>\n",
       "      <td>-0.721263</td>\n",
       "      <td>Check-Out</td>\n",
       "      <td>2017-09-06</td>\n",
       "      <td>2017-08-30</td>\n",
       "    </tr>\n",
       "    <tr>\n",
       "      <th>118723</th>\n",
       "      <td>City Hotel</td>\n",
       "      <td>0</td>\n",
       "      <td>-0.022460</td>\n",
       "      <td>2017</td>\n",
       "      <td>8</td>\n",
       "      <td>0.576674</td>\n",
       "      <td>1.731017</td>\n",
       "      <td>1.079562</td>\n",
       "      <td>1.322906</td>\n",
       "      <td>1.981825</td>\n",
       "      <td>...</td>\n",
       "      <td>9.0</td>\n",
       "      <td>0.0</td>\n",
       "      <td>-0.132175</td>\n",
       "      <td>Transient</td>\n",
       "      <td>2.446867</td>\n",
       "      <td>-0.253493</td>\n",
       "      <td>1.801669</td>\n",
       "      <td>Check-Out</td>\n",
       "      <td>2017-09-07</td>\n",
       "      <td>2017-08-31</td>\n",
       "    </tr>\n",
       "    <tr>\n",
       "      <th>118724</th>\n",
       "      <td>City Hotel</td>\n",
       "      <td>0</td>\n",
       "      <td>-0.658478</td>\n",
       "      <td>2017</td>\n",
       "      <td>8</td>\n",
       "      <td>0.576674</td>\n",
       "      <td>1.731017</td>\n",
       "      <td>1.079562</td>\n",
       "      <td>1.322906</td>\n",
       "      <td>0.241778</td>\n",
       "      <td>...</td>\n",
       "      <td>9.0</td>\n",
       "      <td>0.0</td>\n",
       "      <td>-0.132175</td>\n",
       "      <td>Transient</td>\n",
       "      <td>1.102939</td>\n",
       "      <td>-0.253493</td>\n",
       "      <td>4.324600</td>\n",
       "      <td>Check-Out</td>\n",
       "      <td>2017-09-07</td>\n",
       "      <td>2017-08-31</td>\n",
       "    </tr>\n",
       "    <tr>\n",
       "      <th>118725</th>\n",
       "      <td>City Hotel</td>\n",
       "      <td>0</td>\n",
       "      <td>0.043012</td>\n",
       "      <td>2017</td>\n",
       "      <td>8</td>\n",
       "      <td>0.576674</td>\n",
       "      <td>1.731017</td>\n",
       "      <td>1.079562</td>\n",
       "      <td>1.322906</td>\n",
       "      <td>0.241778</td>\n",
       "      <td>...</td>\n",
       "      <td>89.0</td>\n",
       "      <td>0.0</td>\n",
       "      <td>-0.132175</td>\n",
       "      <td>Transient</td>\n",
       "      <td>0.044982</td>\n",
       "      <td>-0.253493</td>\n",
       "      <td>-0.721263</td>\n",
       "      <td>Check-Out</td>\n",
       "      <td>2017-09-07</td>\n",
       "      <td>2017-08-31</td>\n",
       "    </tr>\n",
       "    <tr>\n",
       "      <th>118726</th>\n",
       "      <td>City Hotel</td>\n",
       "      <td>0</td>\n",
       "      <td>0.940920</td>\n",
       "      <td>2017</td>\n",
       "      <td>8</td>\n",
       "      <td>0.576674</td>\n",
       "      <td>1.503236</td>\n",
       "      <td>1.079562</td>\n",
       "      <td>2.381618</td>\n",
       "      <td>0.241778</td>\n",
       "      <td>...</td>\n",
       "      <td>9.0</td>\n",
       "      <td>0.0</td>\n",
       "      <td>-0.132175</td>\n",
       "      <td>Transient</td>\n",
       "      <td>0.973746</td>\n",
       "      <td>-0.253493</td>\n",
       "      <td>1.801669</td>\n",
       "      <td>Check-Out</td>\n",
       "      <td>2017-09-07</td>\n",
       "      <td>2017-08-29</td>\n",
       "    </tr>\n",
       "  </tbody>\n",
       "</table>\n",
       "<p>118727 rows × 33 columns</p>\n",
       "</div>"
      ],
      "text/plain": [
       "               hotel  is_canceled  lead_time  arrival_date_year  \\\n",
       "0       Resort Hotel            0   2.222308               2015   \n",
       "1       Resort Hotel            0   5.916822               2015   \n",
       "2       Resort Hotel            0  -0.911014               2015   \n",
       "3       Resort Hotel            0  -0.854895               2015   \n",
       "4       Resort Hotel            0  -0.845542               2015   \n",
       "...              ...          ...        ...                ...   \n",
       "118722    City Hotel            0  -0.761363               2017   \n",
       "118723    City Hotel            0  -0.022460               2017   \n",
       "118724    City Hotel            0  -0.658478               2017   \n",
       "118725    City Hotel            0   0.043012               2017   \n",
       "118726    City Hotel            0   0.940920               2017   \n",
       "\n",
       "        arrival_date_month  arrival_date_week_number  \\\n",
       "0                        7                 -0.012151   \n",
       "1                        7                 -0.012151   \n",
       "2                        7                 -0.012151   \n",
       "3                        7                 -0.012151   \n",
       "4                        7                 -0.012151   \n",
       "...                    ...                       ...   \n",
       "118722                   8                  0.576674   \n",
       "118723                   8                  0.576674   \n",
       "118724                   8                  0.576674   \n",
       "118725                   8                  0.576674   \n",
       "118726                   8                  0.576674   \n",
       "\n",
       "        arrival_date_day_of_month  stays_in_weekend_nights  \\\n",
       "0                       -1.685701                -0.935105   \n",
       "1                       -1.685701                -0.935105   \n",
       "2                       -1.685701                -0.935105   \n",
       "3                       -1.685701                -0.935105   \n",
       "4                       -1.685701                -0.935105   \n",
       "...                           ...                      ...   \n",
       "118722                   1.617126                 1.079562   \n",
       "118723                   1.731017                 1.079562   \n",
       "118724                   1.731017                 1.079562   \n",
       "118725                   1.731017                 1.079562   \n",
       "118726                   1.503236                 1.079562   \n",
       "\n",
       "        stays_in_week_nights    adults  ...  agent  company  \\\n",
       "0                  -1.323873  0.241778  ...    0.0      0.0   \n",
       "1                  -1.323873  0.241778  ...    0.0      0.0   \n",
       "2                  -0.794518 -1.498269  ...    0.0      0.0   \n",
       "3                  -0.794518 -1.498269  ...  304.0      0.0   \n",
       "4                  -0.265162  0.241778  ...  240.0      0.0   \n",
       "...                      ...       ...  ...    ...      ...   \n",
       "118722              1.322906  0.241778  ...  394.0      0.0   \n",
       "118723              1.322906  1.981825  ...    9.0      0.0   \n",
       "118724              1.322906  0.241778  ...    9.0      0.0   \n",
       "118725              1.322906  0.241778  ...   89.0      0.0   \n",
       "118726              2.381618  0.241778  ...    9.0      0.0   \n",
       "\n",
       "       days_in_waiting_list customer_type       adr  \\\n",
       "0                 -0.132175     Transient -2.026874   \n",
       "1                 -0.132175     Transient -2.026874   \n",
       "2                 -0.132175     Transient -0.538471   \n",
       "3                 -0.132175     Transient -0.538471   \n",
       "4                 -0.132175     Transient -0.082028   \n",
       "...                     ...           ...       ...   \n",
       "118722            -0.132175     Transient -0.118940   \n",
       "118723            -0.132175     Transient  2.446867   \n",
       "118724            -0.132175     Transient  1.102939   \n",
       "118725            -0.132175     Transient  0.044982   \n",
       "118726            -0.132175     Transient  0.973746   \n",
       "\n",
       "       required_car_parking_spaces  total_of_special_requests  \\\n",
       "0                        -0.253493                  -0.721263   \n",
       "1                        -0.253493                  -0.721263   \n",
       "2                        -0.253493                  -0.721263   \n",
       "3                        -0.253493                  -0.721263   \n",
       "4                        -0.253493                   0.540203   \n",
       "...                            ...                        ...   \n",
       "118722                   -0.253493                  -0.721263   \n",
       "118723                   -0.253493                   1.801669   \n",
       "118724                   -0.253493                   4.324600   \n",
       "118725                   -0.253493                  -0.721263   \n",
       "118726                   -0.253493                   1.801669   \n",
       "\n",
       "        reservation_status  reservation_status_date arrival_date  \n",
       "0                Check-Out               2015-07-01   2015-07-01  \n",
       "1                Check-Out               2015-07-01   2015-07-01  \n",
       "2                Check-Out               2015-07-02   2015-07-01  \n",
       "3                Check-Out               2015-07-02   2015-07-01  \n",
       "4                Check-Out               2015-07-03   2015-07-01  \n",
       "...                    ...                      ...          ...  \n",
       "118722           Check-Out               2017-09-06   2017-08-30  \n",
       "118723           Check-Out               2017-09-07   2017-08-31  \n",
       "118724           Check-Out               2017-09-07   2017-08-31  \n",
       "118725           Check-Out               2017-09-07   2017-08-31  \n",
       "118726           Check-Out               2017-09-07   2017-08-29  \n",
       "\n",
       "[118727 rows x 33 columns]"
      ]
     },
     "execution_count": 39,
     "metadata": {},
     "output_type": "execute_result"
    }
   ],
   "source": [
    "scaled_data"
   ]
  },
  {
   "cell_type": "markdown",
   "metadata": {},
   "source": [
    "### categorical variables encoding"
   ]
  },
  {
   "cell_type": "markdown",
   "metadata": {},
   "source": [
    " label encoding is straight but it has the disadvantage that the numeric values can be misinterpreted\n",
    " by algorithms as having some sort of hierarchy/order in them, but if we chose  one hot encoder\n",
    " we will end up with over 200 columns wich is very expensive in terms of computing.\n",
    " that's why we will experiment with label encoding first and see how the satisfying the results are."
   ]
  },
  {
   "cell_type": "code",
   "execution_count": 40,
   "metadata": {},
   "outputs": [
    {
     "data": {
      "text/plain": [
       "array(['PRT', 'GBR', 'USA', 'ESP', 'IRL', 'FRA', 'ROU', 'NOR', 'OMN',\n",
       "       'ARG', 'POL', 'DEU', 'BEL', 'CHE', 'CN', 'GRC', 'ITA', 'NLD',\n",
       "       'DNK', 'RUS', 'SWE', 'AUS', 'EST', 'CZE', 'BRA', 'FIN', 'MOZ',\n",
       "       'BWA', 'LUX', 'SVN', 'ALB', 'IND', 'CHN', 'MEX', 'MAR', 'UKR',\n",
       "       'SMR', 'LVA', 'PRI', 'SRB', 'CHL', 'AUT', 'BLR', 'LTU', 'TUR',\n",
       "       'ZAF', 'AGO', 'ISR', 'CYM', 'ZMB', 'CPV', 'ZWE', 'DZA', 'KOR',\n",
       "       'CRI', 'HUN', 'ARE', 'TUN', 'JAM', 'HRV', 'HKG', 'IRN', 'GEO',\n",
       "       'AND', 'GIB', 'URY', 'JEY', 'CAF', 'CYP', 'COL', 'GGY', 'KWT',\n",
       "       'NGA', 'MDV', 'VEN', 'SVK', 'FJI', 'KAZ', 'PAK', 'IDN', 'LBN',\n",
       "       'PHL', 'SEN', 'SYC', 'AZE', 'BHR', 'NZL', 'THA', 'DOM', 'MKD',\n",
       "       'MYS', 'ARM', 'JPN', 'LKA', 'CUB', 'CMR', 'BIH', 'MUS', 'COM',\n",
       "       'SUR', 'UGA', 'BGR', 'CIV', 'JOR', 'SYR', 'SGP', 'BDI', 'SAU',\n",
       "       'VNM', 'PLW', 'QAT', 'EGY', 'PER', 'MLT', 'MWI', 'ECU', 'MDG',\n",
       "       'ISL', 'UZB', 'NPL', 'BHS', 'MAC', 'TGO', 'TWN', 'DJI', 'STP',\n",
       "       'KNA', 'ETH', 'IRQ', 'HND', 'RWA', 'KHM', 'MCO', 'BGD', 'IMN',\n",
       "       'TJK', 'NIC', 'BEN', 'VGB', 'TZA', 'GAB', 'GHA', 'TMP', 'GLP',\n",
       "       'KEN', 'LIE', 'GNB', 'MNE', 'UMI', 'MYT', 'FRO', 'MMR', 'PAN',\n",
       "       'BFA', 'LBY', 'MLI', 'NAM', 'BOL', 'PRY', 'BRB', 'ABW', 'AIA',\n",
       "       'SLV', 'DMA', 'PYF', 'GUY', 'LCA', 'ATA', 'GTM', 'ASM', 'MRT',\n",
       "       'NCL', 'KIR', 'SDN', 'ATF', 'SLE', 'LAO'], dtype=object)"
      ]
     },
     "execution_count": 40,
     "metadata": {},
     "output_type": "execute_result"
    }
   ],
   "source": [
    "hotels['country'].unique()"
   ]
  },
  {
   "cell_type": "code",
   "execution_count": 41,
   "metadata": {},
   "outputs": [],
   "source": [
    "from sklearn.preprocessing import LabelEncoder\n",
    "columns_to_label=['hotel','meal','country','market_segment','distribution_channel','reserved_room_type','assigned_room_type',\n",
    "                   'deposit_type','customer_type','reservation_status']"
   ]
  },
  {
   "cell_type": "code",
   "execution_count": 42,
   "metadata": {},
   "outputs": [],
   "source": [
    "labelencoder = LabelEncoder()\n",
    "for column_to_label in columns_to_label:\n",
    "    scaled_data[column_to_label] = labelencoder.fit_transform(scaled_data[column_to_label])\n",
    "    "
   ]
  },
  {
   "cell_type": "code",
   "execution_count": 43,
   "metadata": {},
   "outputs": [
    {
     "data": {
      "text/html": [
       "<div>\n",
       "<style scoped>\n",
       "    .dataframe tbody tr th:only-of-type {\n",
       "        vertical-align: middle;\n",
       "    }\n",
       "\n",
       "    .dataframe tbody tr th {\n",
       "        vertical-align: top;\n",
       "    }\n",
       "\n",
       "    .dataframe thead th {\n",
       "        text-align: right;\n",
       "    }\n",
       "</style>\n",
       "<table border=\"1\" class=\"dataframe\">\n",
       "  <thead>\n",
       "    <tr style=\"text-align: right;\">\n",
       "      <th></th>\n",
       "      <th>hotel</th>\n",
       "      <th>is_canceled</th>\n",
       "      <th>lead_time</th>\n",
       "      <th>arrival_date_year</th>\n",
       "      <th>arrival_date_month</th>\n",
       "      <th>arrival_date_week_number</th>\n",
       "      <th>arrival_date_day_of_month</th>\n",
       "      <th>stays_in_weekend_nights</th>\n",
       "      <th>stays_in_week_nights</th>\n",
       "      <th>adults</th>\n",
       "      <th>...</th>\n",
       "      <th>agent</th>\n",
       "      <th>company</th>\n",
       "      <th>days_in_waiting_list</th>\n",
       "      <th>customer_type</th>\n",
       "      <th>adr</th>\n",
       "      <th>required_car_parking_spaces</th>\n",
       "      <th>total_of_special_requests</th>\n",
       "      <th>reservation_status</th>\n",
       "      <th>reservation_status_date</th>\n",
       "      <th>arrival_date</th>\n",
       "    </tr>\n",
       "  </thead>\n",
       "  <tbody>\n",
       "    <tr>\n",
       "      <th>0</th>\n",
       "      <td>1</td>\n",
       "      <td>0</td>\n",
       "      <td>2.222308</td>\n",
       "      <td>2015</td>\n",
       "      <td>7</td>\n",
       "      <td>-0.012151</td>\n",
       "      <td>-1.685701</td>\n",
       "      <td>-0.935105</td>\n",
       "      <td>-1.323873</td>\n",
       "      <td>0.241778</td>\n",
       "      <td>...</td>\n",
       "      <td>0.0</td>\n",
       "      <td>0.0</td>\n",
       "      <td>-0.132175</td>\n",
       "      <td>2</td>\n",
       "      <td>-2.026874</td>\n",
       "      <td>-0.253493</td>\n",
       "      <td>-0.721263</td>\n",
       "      <td>1</td>\n",
       "      <td>2015-07-01</td>\n",
       "      <td>2015-07-01</td>\n",
       "    </tr>\n",
       "    <tr>\n",
       "      <th>1</th>\n",
       "      <td>1</td>\n",
       "      <td>0</td>\n",
       "      <td>5.916822</td>\n",
       "      <td>2015</td>\n",
       "      <td>7</td>\n",
       "      <td>-0.012151</td>\n",
       "      <td>-1.685701</td>\n",
       "      <td>-0.935105</td>\n",
       "      <td>-1.323873</td>\n",
       "      <td>0.241778</td>\n",
       "      <td>...</td>\n",
       "      <td>0.0</td>\n",
       "      <td>0.0</td>\n",
       "      <td>-0.132175</td>\n",
       "      <td>2</td>\n",
       "      <td>-2.026874</td>\n",
       "      <td>-0.253493</td>\n",
       "      <td>-0.721263</td>\n",
       "      <td>1</td>\n",
       "      <td>2015-07-01</td>\n",
       "      <td>2015-07-01</td>\n",
       "    </tr>\n",
       "    <tr>\n",
       "      <th>2</th>\n",
       "      <td>1</td>\n",
       "      <td>0</td>\n",
       "      <td>-0.911014</td>\n",
       "      <td>2015</td>\n",
       "      <td>7</td>\n",
       "      <td>-0.012151</td>\n",
       "      <td>-1.685701</td>\n",
       "      <td>-0.935105</td>\n",
       "      <td>-0.794518</td>\n",
       "      <td>-1.498269</td>\n",
       "      <td>...</td>\n",
       "      <td>0.0</td>\n",
       "      <td>0.0</td>\n",
       "      <td>-0.132175</td>\n",
       "      <td>2</td>\n",
       "      <td>-0.538471</td>\n",
       "      <td>-0.253493</td>\n",
       "      <td>-0.721263</td>\n",
       "      <td>1</td>\n",
       "      <td>2015-07-02</td>\n",
       "      <td>2015-07-01</td>\n",
       "    </tr>\n",
       "    <tr>\n",
       "      <th>3</th>\n",
       "      <td>1</td>\n",
       "      <td>0</td>\n",
       "      <td>-0.854895</td>\n",
       "      <td>2015</td>\n",
       "      <td>7</td>\n",
       "      <td>-0.012151</td>\n",
       "      <td>-1.685701</td>\n",
       "      <td>-0.935105</td>\n",
       "      <td>-0.794518</td>\n",
       "      <td>-1.498269</td>\n",
       "      <td>...</td>\n",
       "      <td>304.0</td>\n",
       "      <td>0.0</td>\n",
       "      <td>-0.132175</td>\n",
       "      <td>2</td>\n",
       "      <td>-0.538471</td>\n",
       "      <td>-0.253493</td>\n",
       "      <td>-0.721263</td>\n",
       "      <td>1</td>\n",
       "      <td>2015-07-02</td>\n",
       "      <td>2015-07-01</td>\n",
       "    </tr>\n",
       "    <tr>\n",
       "      <th>4</th>\n",
       "      <td>1</td>\n",
       "      <td>0</td>\n",
       "      <td>-0.845542</td>\n",
       "      <td>2015</td>\n",
       "      <td>7</td>\n",
       "      <td>-0.012151</td>\n",
       "      <td>-1.685701</td>\n",
       "      <td>-0.935105</td>\n",
       "      <td>-0.265162</td>\n",
       "      <td>0.241778</td>\n",
       "      <td>...</td>\n",
       "      <td>240.0</td>\n",
       "      <td>0.0</td>\n",
       "      <td>-0.132175</td>\n",
       "      <td>2</td>\n",
       "      <td>-0.082028</td>\n",
       "      <td>-0.253493</td>\n",
       "      <td>0.540203</td>\n",
       "      <td>1</td>\n",
       "      <td>2015-07-03</td>\n",
       "      <td>2015-07-01</td>\n",
       "    </tr>\n",
       "    <tr>\n",
       "      <th>...</th>\n",
       "      <td>...</td>\n",
       "      <td>...</td>\n",
       "      <td>...</td>\n",
       "      <td>...</td>\n",
       "      <td>...</td>\n",
       "      <td>...</td>\n",
       "      <td>...</td>\n",
       "      <td>...</td>\n",
       "      <td>...</td>\n",
       "      <td>...</td>\n",
       "      <td>...</td>\n",
       "      <td>...</td>\n",
       "      <td>...</td>\n",
       "      <td>...</td>\n",
       "      <td>...</td>\n",
       "      <td>...</td>\n",
       "      <td>...</td>\n",
       "      <td>...</td>\n",
       "      <td>...</td>\n",
       "      <td>...</td>\n",
       "      <td>...</td>\n",
       "    </tr>\n",
       "    <tr>\n",
       "      <th>118722</th>\n",
       "      <td>0</td>\n",
       "      <td>0</td>\n",
       "      <td>-0.761363</td>\n",
       "      <td>2017</td>\n",
       "      <td>8</td>\n",
       "      <td>0.576674</td>\n",
       "      <td>1.617126</td>\n",
       "      <td>1.079562</td>\n",
       "      <td>1.322906</td>\n",
       "      <td>0.241778</td>\n",
       "      <td>...</td>\n",
       "      <td>394.0</td>\n",
       "      <td>0.0</td>\n",
       "      <td>-0.132175</td>\n",
       "      <td>2</td>\n",
       "      <td>-0.118940</td>\n",
       "      <td>-0.253493</td>\n",
       "      <td>-0.721263</td>\n",
       "      <td>1</td>\n",
       "      <td>2017-09-06</td>\n",
       "      <td>2017-08-30</td>\n",
       "    </tr>\n",
       "    <tr>\n",
       "      <th>118723</th>\n",
       "      <td>0</td>\n",
       "      <td>0</td>\n",
       "      <td>-0.022460</td>\n",
       "      <td>2017</td>\n",
       "      <td>8</td>\n",
       "      <td>0.576674</td>\n",
       "      <td>1.731017</td>\n",
       "      <td>1.079562</td>\n",
       "      <td>1.322906</td>\n",
       "      <td>1.981825</td>\n",
       "      <td>...</td>\n",
       "      <td>9.0</td>\n",
       "      <td>0.0</td>\n",
       "      <td>-0.132175</td>\n",
       "      <td>2</td>\n",
       "      <td>2.446867</td>\n",
       "      <td>-0.253493</td>\n",
       "      <td>1.801669</td>\n",
       "      <td>1</td>\n",
       "      <td>2017-09-07</td>\n",
       "      <td>2017-08-31</td>\n",
       "    </tr>\n",
       "    <tr>\n",
       "      <th>118724</th>\n",
       "      <td>0</td>\n",
       "      <td>0</td>\n",
       "      <td>-0.658478</td>\n",
       "      <td>2017</td>\n",
       "      <td>8</td>\n",
       "      <td>0.576674</td>\n",
       "      <td>1.731017</td>\n",
       "      <td>1.079562</td>\n",
       "      <td>1.322906</td>\n",
       "      <td>0.241778</td>\n",
       "      <td>...</td>\n",
       "      <td>9.0</td>\n",
       "      <td>0.0</td>\n",
       "      <td>-0.132175</td>\n",
       "      <td>2</td>\n",
       "      <td>1.102939</td>\n",
       "      <td>-0.253493</td>\n",
       "      <td>4.324600</td>\n",
       "      <td>1</td>\n",
       "      <td>2017-09-07</td>\n",
       "      <td>2017-08-31</td>\n",
       "    </tr>\n",
       "    <tr>\n",
       "      <th>118725</th>\n",
       "      <td>0</td>\n",
       "      <td>0</td>\n",
       "      <td>0.043012</td>\n",
       "      <td>2017</td>\n",
       "      <td>8</td>\n",
       "      <td>0.576674</td>\n",
       "      <td>1.731017</td>\n",
       "      <td>1.079562</td>\n",
       "      <td>1.322906</td>\n",
       "      <td>0.241778</td>\n",
       "      <td>...</td>\n",
       "      <td>89.0</td>\n",
       "      <td>0.0</td>\n",
       "      <td>-0.132175</td>\n",
       "      <td>2</td>\n",
       "      <td>0.044982</td>\n",
       "      <td>-0.253493</td>\n",
       "      <td>-0.721263</td>\n",
       "      <td>1</td>\n",
       "      <td>2017-09-07</td>\n",
       "      <td>2017-08-31</td>\n",
       "    </tr>\n",
       "    <tr>\n",
       "      <th>118726</th>\n",
       "      <td>0</td>\n",
       "      <td>0</td>\n",
       "      <td>0.940920</td>\n",
       "      <td>2017</td>\n",
       "      <td>8</td>\n",
       "      <td>0.576674</td>\n",
       "      <td>1.503236</td>\n",
       "      <td>1.079562</td>\n",
       "      <td>2.381618</td>\n",
       "      <td>0.241778</td>\n",
       "      <td>...</td>\n",
       "      <td>9.0</td>\n",
       "      <td>0.0</td>\n",
       "      <td>-0.132175</td>\n",
       "      <td>2</td>\n",
       "      <td>0.973746</td>\n",
       "      <td>-0.253493</td>\n",
       "      <td>1.801669</td>\n",
       "      <td>1</td>\n",
       "      <td>2017-09-07</td>\n",
       "      <td>2017-08-29</td>\n",
       "    </tr>\n",
       "  </tbody>\n",
       "</table>\n",
       "<p>118727 rows × 33 columns</p>\n",
       "</div>"
      ],
      "text/plain": [
       "        hotel  is_canceled  lead_time  arrival_date_year  arrival_date_month  \\\n",
       "0           1            0   2.222308               2015                   7   \n",
       "1           1            0   5.916822               2015                   7   \n",
       "2           1            0  -0.911014               2015                   7   \n",
       "3           1            0  -0.854895               2015                   7   \n",
       "4           1            0  -0.845542               2015                   7   \n",
       "...       ...          ...        ...                ...                 ...   \n",
       "118722      0            0  -0.761363               2017                   8   \n",
       "118723      0            0  -0.022460               2017                   8   \n",
       "118724      0            0  -0.658478               2017                   8   \n",
       "118725      0            0   0.043012               2017                   8   \n",
       "118726      0            0   0.940920               2017                   8   \n",
       "\n",
       "        arrival_date_week_number  arrival_date_day_of_month  \\\n",
       "0                      -0.012151                  -1.685701   \n",
       "1                      -0.012151                  -1.685701   \n",
       "2                      -0.012151                  -1.685701   \n",
       "3                      -0.012151                  -1.685701   \n",
       "4                      -0.012151                  -1.685701   \n",
       "...                          ...                        ...   \n",
       "118722                  0.576674                   1.617126   \n",
       "118723                  0.576674                   1.731017   \n",
       "118724                  0.576674                   1.731017   \n",
       "118725                  0.576674                   1.731017   \n",
       "118726                  0.576674                   1.503236   \n",
       "\n",
       "        stays_in_weekend_nights  stays_in_week_nights    adults  ...  agent  \\\n",
       "0                     -0.935105             -1.323873  0.241778  ...    0.0   \n",
       "1                     -0.935105             -1.323873  0.241778  ...    0.0   \n",
       "2                     -0.935105             -0.794518 -1.498269  ...    0.0   \n",
       "3                     -0.935105             -0.794518 -1.498269  ...  304.0   \n",
       "4                     -0.935105             -0.265162  0.241778  ...  240.0   \n",
       "...                         ...                   ...       ...  ...    ...   \n",
       "118722                 1.079562              1.322906  0.241778  ...  394.0   \n",
       "118723                 1.079562              1.322906  1.981825  ...    9.0   \n",
       "118724                 1.079562              1.322906  0.241778  ...    9.0   \n",
       "118725                 1.079562              1.322906  0.241778  ...   89.0   \n",
       "118726                 1.079562              2.381618  0.241778  ...    9.0   \n",
       "\n",
       "        company  days_in_waiting_list  customer_type       adr  \\\n",
       "0           0.0             -0.132175              2 -2.026874   \n",
       "1           0.0             -0.132175              2 -2.026874   \n",
       "2           0.0             -0.132175              2 -0.538471   \n",
       "3           0.0             -0.132175              2 -0.538471   \n",
       "4           0.0             -0.132175              2 -0.082028   \n",
       "...         ...                   ...            ...       ...   \n",
       "118722      0.0             -0.132175              2 -0.118940   \n",
       "118723      0.0             -0.132175              2  2.446867   \n",
       "118724      0.0             -0.132175              2  1.102939   \n",
       "118725      0.0             -0.132175              2  0.044982   \n",
       "118726      0.0             -0.132175              2  0.973746   \n",
       "\n",
       "        required_car_parking_spaces  total_of_special_requests  \\\n",
       "0                         -0.253493                  -0.721263   \n",
       "1                         -0.253493                  -0.721263   \n",
       "2                         -0.253493                  -0.721263   \n",
       "3                         -0.253493                  -0.721263   \n",
       "4                         -0.253493                   0.540203   \n",
       "...                             ...                        ...   \n",
       "118722                    -0.253493                  -0.721263   \n",
       "118723                    -0.253493                   1.801669   \n",
       "118724                    -0.253493                   4.324600   \n",
       "118725                    -0.253493                  -0.721263   \n",
       "118726                    -0.253493                   1.801669   \n",
       "\n",
       "        reservation_status  reservation_status_date  arrival_date  \n",
       "0                        1               2015-07-01    2015-07-01  \n",
       "1                        1               2015-07-01    2015-07-01  \n",
       "2                        1               2015-07-02    2015-07-01  \n",
       "3                        1               2015-07-02    2015-07-01  \n",
       "4                        1               2015-07-03    2015-07-01  \n",
       "...                    ...                      ...           ...  \n",
       "118722                   1               2017-09-06    2017-08-30  \n",
       "118723                   1               2017-09-07    2017-08-31  \n",
       "118724                   1               2017-09-07    2017-08-31  \n",
       "118725                   1               2017-09-07    2017-08-31  \n",
       "118726                   1               2017-09-07    2017-08-29  \n",
       "\n",
       "[118727 rows x 33 columns]"
      ]
     },
     "execution_count": 43,
     "metadata": {},
     "output_type": "execute_result"
    }
   ],
   "source": [
    "scaled_data"
   ]
  },
  {
   "cell_type": "markdown",
   "metadata": {},
   "source": [
    "<div id=\"III. Exploratory data analysis\">\n",
    "    <h2>III. Exploratory data analysis: </h2> \n",
    "</div>"
   ]
  },
  {
   "cell_type": "markdown",
   "metadata": {},
   "source": [
    "##### 1. Create dataset summary statistics – Date variables. "
   ]
  },
  {
   "cell_type": "code",
   "execution_count": 44,
   "metadata": {},
   "outputs": [
    {
     "data": {
      "text/plain": [
       "count                           118727\n",
       "mean     2016-08-29 01:58:07.991779328\n",
       "min                2015-07-01 00:00:00\n",
       "25%                2016-03-14 00:00:00\n",
       "50%                2016-09-06 00:00:00\n",
       "75%                2017-03-19 00:00:00\n",
       "max                2017-08-31 00:00:00\n",
       "std                                NaN\n",
       "Name: arrival_date, dtype: object"
      ]
     },
     "execution_count": 44,
     "metadata": {},
     "output_type": "execute_result"
    }
   ],
   "source": [
    "hotels.describe(datetime_is_numeric=True)['arrival_date']"
   ]
  },
  {
   "cell_type": "code",
   "execution_count": 45,
   "metadata": {},
   "outputs": [
    {
     "data": {
      "text/plain": [
       "count                           118727\n",
       "mean     2016-07-30 05:56:02.217524224\n",
       "min                2014-10-17 00:00:00\n",
       "25%                2016-02-02 00:00:00\n",
       "50%                2016-08-07 00:00:00\n",
       "75%                2017-02-09 00:00:00\n",
       "max                2017-09-14 00:00:00\n",
       "std                                NaN\n",
       "Name: reservation_status_date, dtype: object"
      ]
     },
     "execution_count": 45,
     "metadata": {},
     "output_type": "execute_result"
    }
   ],
   "source": [
    "hotels.describe(datetime_is_numeric=True)['reservation_status_date']"
   ]
  },
  {
   "cell_type": "markdown",
   "metadata": {},
   "source": [
    "##### 2.Create dataset summary statistics – Categorical variables. "
   ]
  },
  {
   "cell_type": "code",
   "execution_count": 46,
   "metadata": {},
   "outputs": [
    {
     "data": {
      "text/html": [
       "<div>\n",
       "<style scoped>\n",
       "    .dataframe tbody tr th:only-of-type {\n",
       "        vertical-align: middle;\n",
       "    }\n",
       "\n",
       "    .dataframe tbody tr th {\n",
       "        vertical-align: top;\n",
       "    }\n",
       "\n",
       "    .dataframe thead th {\n",
       "        text-align: right;\n",
       "    }\n",
       "</style>\n",
       "<table border=\"1\" class=\"dataframe\">\n",
       "  <thead>\n",
       "    <tr style=\"text-align: right;\">\n",
       "      <th></th>\n",
       "      <th>hotel</th>\n",
       "      <th>meal</th>\n",
       "      <th>country</th>\n",
       "      <th>market_segment</th>\n",
       "      <th>distribution_channel</th>\n",
       "      <th>reserved_room_type</th>\n",
       "      <th>assigned_room_type</th>\n",
       "      <th>deposit_type</th>\n",
       "      <th>customer_type</th>\n",
       "      <th>reservation_status</th>\n",
       "    </tr>\n",
       "  </thead>\n",
       "  <tbody>\n",
       "    <tr>\n",
       "      <th>count</th>\n",
       "      <td>118727</td>\n",
       "      <td>118727</td>\n",
       "      <td>118727</td>\n",
       "      <td>118727</td>\n",
       "      <td>118727</td>\n",
       "      <td>118727</td>\n",
       "      <td>118727</td>\n",
       "      <td>118727</td>\n",
       "      <td>118727</td>\n",
       "      <td>118727</td>\n",
       "    </tr>\n",
       "    <tr>\n",
       "      <th>unique</th>\n",
       "      <td>2</td>\n",
       "      <td>4</td>\n",
       "      <td>177</td>\n",
       "      <td>7</td>\n",
       "      <td>4</td>\n",
       "      <td>9</td>\n",
       "      <td>11</td>\n",
       "      <td>3</td>\n",
       "      <td>4</td>\n",
       "      <td>3</td>\n",
       "    </tr>\n",
       "    <tr>\n",
       "      <th>top</th>\n",
       "      <td>City Hotel</td>\n",
       "      <td>BB</td>\n",
       "      <td>PRT</td>\n",
       "      <td>Online TA</td>\n",
       "      <td>TA/TO</td>\n",
       "      <td>A</td>\n",
       "      <td>A</td>\n",
       "      <td>No Deposit</td>\n",
       "      <td>Transient</td>\n",
       "      <td>Check-Out</td>\n",
       "    </tr>\n",
       "    <tr>\n",
       "      <th>freq</th>\n",
       "      <td>79143</td>\n",
       "      <td>91789</td>\n",
       "      <td>48478</td>\n",
       "      <td>56333</td>\n",
       "      <td>97612</td>\n",
       "      <td>85479</td>\n",
       "      <td>73829</td>\n",
       "      <td>103992</td>\n",
       "      <td>89045</td>\n",
       "      <td>74589</td>\n",
       "    </tr>\n",
       "  </tbody>\n",
       "</table>\n",
       "</div>"
      ],
      "text/plain": [
       "             hotel    meal country market_segment distribution_channel  \\\n",
       "count       118727  118727  118727         118727               118727   \n",
       "unique           2       4     177              7                    4   \n",
       "top     City Hotel      BB     PRT      Online TA                TA/TO   \n",
       "freq         79143   91789   48478          56333                97612   \n",
       "\n",
       "       reserved_room_type assigned_room_type deposit_type customer_type  \\\n",
       "count              118727             118727       118727        118727   \n",
       "unique                  9                 11            3             4   \n",
       "top                     A                  A   No Deposit     Transient   \n",
       "freq                85479              73829       103992         89045   \n",
       "\n",
       "       reservation_status  \n",
       "count              118727  \n",
       "unique                  3  \n",
       "top             Check-Out  \n",
       "freq                74589  "
      ]
     },
     "execution_count": 46,
     "metadata": {},
     "output_type": "execute_result"
    }
   ],
   "source": [
    "hotels.describe(include=['object'])"
   ]
  },
  {
   "cell_type": "markdown",
   "metadata": {},
   "source": [
    "##### 3. Create dataset summary statistics – Integer and numeric variables"
   ]
  },
  {
   "cell_type": "code",
   "execution_count": 47,
   "metadata": {},
   "outputs": [
    {
     "data": {
      "text/html": [
       "<div>\n",
       "<style scoped>\n",
       "    .dataframe tbody tr th:only-of-type {\n",
       "        vertical-align: middle;\n",
       "    }\n",
       "\n",
       "    .dataframe tbody tr th {\n",
       "        vertical-align: top;\n",
       "    }\n",
       "\n",
       "    .dataframe thead th {\n",
       "        text-align: right;\n",
       "    }\n",
       "</style>\n",
       "<table border=\"1\" class=\"dataframe\">\n",
       "  <thead>\n",
       "    <tr style=\"text-align: right;\">\n",
       "      <th></th>\n",
       "      <th>is_canceled</th>\n",
       "      <th>lead_time</th>\n",
       "      <th>arrival_date_year</th>\n",
       "      <th>arrival_date_week_number</th>\n",
       "      <th>arrival_date_day_of_month</th>\n",
       "      <th>stays_in_weekend_nights</th>\n",
       "      <th>stays_in_week_nights</th>\n",
       "      <th>adults</th>\n",
       "      <th>children</th>\n",
       "      <th>babies</th>\n",
       "      <th>is_repeated_guest</th>\n",
       "      <th>previous_cancellations</th>\n",
       "      <th>previous_bookings_not_canceled</th>\n",
       "      <th>booking_changes</th>\n",
       "      <th>agent</th>\n",
       "      <th>company</th>\n",
       "      <th>days_in_waiting_list</th>\n",
       "      <th>adr</th>\n",
       "      <th>required_car_parking_spaces</th>\n",
       "      <th>total_of_special_requests</th>\n",
       "    </tr>\n",
       "  </thead>\n",
       "  <tbody>\n",
       "    <tr>\n",
       "      <th>count</th>\n",
       "      <td>118727.000000</td>\n",
       "      <td>118727.000000</td>\n",
       "      <td>118727.000000</td>\n",
       "      <td>118727.000000</td>\n",
       "      <td>118727.000000</td>\n",
       "      <td>118727.000000</td>\n",
       "      <td>118727.000000</td>\n",
       "      <td>118727.000000</td>\n",
       "      <td>118727.000000</td>\n",
       "      <td>118727.000000</td>\n",
       "      <td>118727.000000</td>\n",
       "      <td>118727.000000</td>\n",
       "      <td>118727.000000</td>\n",
       "      <td>118727.000000</td>\n",
       "      <td>118727.000000</td>\n",
       "      <td>118727.000000</td>\n",
       "      <td>118727.000000</td>\n",
       "      <td>118727.000000</td>\n",
       "      <td>118727.000000</td>\n",
       "      <td>118727.000000</td>\n",
       "    </tr>\n",
       "    <tr>\n",
       "      <th>mean</th>\n",
       "      <td>0.371760</td>\n",
       "      <td>104.401324</td>\n",
       "      <td>2016.157605</td>\n",
       "      <td>27.165093</td>\n",
       "      <td>15.801056</td>\n",
       "      <td>0.928298</td>\n",
       "      <td>2.500914</td>\n",
       "      <td>1.861051</td>\n",
       "      <td>0.104349</td>\n",
       "      <td>0.007959</td>\n",
       "      <td>0.031593</td>\n",
       "      <td>0.087208</td>\n",
       "      <td>0.131613</td>\n",
       "      <td>0.218830</td>\n",
       "      <td>74.951696</td>\n",
       "      <td>10.546944</td>\n",
       "      <td>2.330658</td>\n",
       "      <td>102.133353</td>\n",
       "      <td>0.061907</td>\n",
       "      <td>0.571765</td>\n",
       "    </tr>\n",
       "    <tr>\n",
       "      <th>std</th>\n",
       "      <td>0.483277</td>\n",
       "      <td>106.915734</td>\n",
       "      <td>0.707451</td>\n",
       "      <td>13.586419</td>\n",
       "      <td>8.780393</td>\n",
       "      <td>0.992724</td>\n",
       "      <td>1.889096</td>\n",
       "      <td>0.574699</td>\n",
       "      <td>0.399432</td>\n",
       "      <td>0.097450</td>\n",
       "      <td>0.174916</td>\n",
       "      <td>0.846423</td>\n",
       "      <td>1.485306</td>\n",
       "      <td>0.638916</td>\n",
       "      <td>107.170694</td>\n",
       "      <td>53.462682</td>\n",
       "      <td>17.633138</td>\n",
       "      <td>50.389804</td>\n",
       "      <td>0.244216</td>\n",
       "      <td>0.792732</td>\n",
       "    </tr>\n",
       "    <tr>\n",
       "      <th>min</th>\n",
       "      <td>0.000000</td>\n",
       "      <td>0.000000</td>\n",
       "      <td>2015.000000</td>\n",
       "      <td>1.000000</td>\n",
       "      <td>1.000000</td>\n",
       "      <td>0.000000</td>\n",
       "      <td>0.000000</td>\n",
       "      <td>0.000000</td>\n",
       "      <td>0.000000</td>\n",
       "      <td>0.000000</td>\n",
       "      <td>0.000000</td>\n",
       "      <td>0.000000</td>\n",
       "      <td>0.000000</td>\n",
       "      <td>0.000000</td>\n",
       "      <td>0.000000</td>\n",
       "      <td>0.000000</td>\n",
       "      <td>0.000000</td>\n",
       "      <td>-6.380000</td>\n",
       "      <td>0.000000</td>\n",
       "      <td>0.000000</td>\n",
       "    </tr>\n",
       "    <tr>\n",
       "      <th>25%</th>\n",
       "      <td>0.000000</td>\n",
       "      <td>18.000000</td>\n",
       "      <td>2016.000000</td>\n",
       "      <td>16.000000</td>\n",
       "      <td>8.000000</td>\n",
       "      <td>0.000000</td>\n",
       "      <td>1.000000</td>\n",
       "      <td>2.000000</td>\n",
       "      <td>0.000000</td>\n",
       "      <td>0.000000</td>\n",
       "      <td>0.000000</td>\n",
       "      <td>0.000000</td>\n",
       "      <td>0.000000</td>\n",
       "      <td>0.000000</td>\n",
       "      <td>7.000000</td>\n",
       "      <td>0.000000</td>\n",
       "      <td>0.000000</td>\n",
       "      <td>70.000000</td>\n",
       "      <td>0.000000</td>\n",
       "      <td>0.000000</td>\n",
       "    </tr>\n",
       "    <tr>\n",
       "      <th>50%</th>\n",
       "      <td>0.000000</td>\n",
       "      <td>70.000000</td>\n",
       "      <td>2016.000000</td>\n",
       "      <td>28.000000</td>\n",
       "      <td>16.000000</td>\n",
       "      <td>1.000000</td>\n",
       "      <td>2.000000</td>\n",
       "      <td>2.000000</td>\n",
       "      <td>0.000000</td>\n",
       "      <td>0.000000</td>\n",
       "      <td>0.000000</td>\n",
       "      <td>0.000000</td>\n",
       "      <td>0.000000</td>\n",
       "      <td>0.000000</td>\n",
       "      <td>9.000000</td>\n",
       "      <td>0.000000</td>\n",
       "      <td>0.000000</td>\n",
       "      <td>95.000000</td>\n",
       "      <td>0.000000</td>\n",
       "      <td>0.000000</td>\n",
       "    </tr>\n",
       "    <tr>\n",
       "      <th>75%</th>\n",
       "      <td>1.000000</td>\n",
       "      <td>161.000000</td>\n",
       "      <td>2017.000000</td>\n",
       "      <td>38.000000</td>\n",
       "      <td>23.000000</td>\n",
       "      <td>2.000000</td>\n",
       "      <td>3.000000</td>\n",
       "      <td>2.000000</td>\n",
       "      <td>0.000000</td>\n",
       "      <td>0.000000</td>\n",
       "      <td>0.000000</td>\n",
       "      <td>0.000000</td>\n",
       "      <td>0.000000</td>\n",
       "      <td>0.000000</td>\n",
       "      <td>153.000000</td>\n",
       "      <td>0.000000</td>\n",
       "      <td>0.000000</td>\n",
       "      <td>126.000000</td>\n",
       "      <td>0.000000</td>\n",
       "      <td>1.000000</td>\n",
       "    </tr>\n",
       "    <tr>\n",
       "      <th>max</th>\n",
       "      <td>1.000000</td>\n",
       "      <td>737.000000</td>\n",
       "      <td>2017.000000</td>\n",
       "      <td>53.000000</td>\n",
       "      <td>31.000000</td>\n",
       "      <td>16.000000</td>\n",
       "      <td>40.000000</td>\n",
       "      <td>55.000000</td>\n",
       "      <td>10.000000</td>\n",
       "      <td>10.000000</td>\n",
       "      <td>1.000000</td>\n",
       "      <td>26.000000</td>\n",
       "      <td>72.000000</td>\n",
       "      <td>18.000000</td>\n",
       "      <td>535.000000</td>\n",
       "      <td>543.000000</td>\n",
       "      <td>391.000000</td>\n",
       "      <td>5400.000000</td>\n",
       "      <td>8.000000</td>\n",
       "      <td>5.000000</td>\n",
       "    </tr>\n",
       "  </tbody>\n",
       "</table>\n",
       "</div>"
      ],
      "text/plain": [
       "         is_canceled      lead_time  arrival_date_year  \\\n",
       "count  118727.000000  118727.000000      118727.000000   \n",
       "mean        0.371760     104.401324        2016.157605   \n",
       "std         0.483277     106.915734           0.707451   \n",
       "min         0.000000       0.000000        2015.000000   \n",
       "25%         0.000000      18.000000        2016.000000   \n",
       "50%         0.000000      70.000000        2016.000000   \n",
       "75%         1.000000     161.000000        2017.000000   \n",
       "max         1.000000     737.000000        2017.000000   \n",
       "\n",
       "       arrival_date_week_number  arrival_date_day_of_month  \\\n",
       "count             118727.000000              118727.000000   \n",
       "mean                  27.165093                  15.801056   \n",
       "std                   13.586419                   8.780393   \n",
       "min                    1.000000                   1.000000   \n",
       "25%                   16.000000                   8.000000   \n",
       "50%                   28.000000                  16.000000   \n",
       "75%                   38.000000                  23.000000   \n",
       "max                   53.000000                  31.000000   \n",
       "\n",
       "       stays_in_weekend_nights  stays_in_week_nights         adults  \\\n",
       "count            118727.000000         118727.000000  118727.000000   \n",
       "mean                  0.928298              2.500914       1.861051   \n",
       "std                   0.992724              1.889096       0.574699   \n",
       "min                   0.000000              0.000000       0.000000   \n",
       "25%                   0.000000              1.000000       2.000000   \n",
       "50%                   1.000000              2.000000       2.000000   \n",
       "75%                   2.000000              3.000000       2.000000   \n",
       "max                  16.000000             40.000000      55.000000   \n",
       "\n",
       "            children         babies  is_repeated_guest  \\\n",
       "count  118727.000000  118727.000000      118727.000000   \n",
       "mean        0.104349       0.007959           0.031593   \n",
       "std         0.399432       0.097450           0.174916   \n",
       "min         0.000000       0.000000           0.000000   \n",
       "25%         0.000000       0.000000           0.000000   \n",
       "50%         0.000000       0.000000           0.000000   \n",
       "75%         0.000000       0.000000           0.000000   \n",
       "max        10.000000      10.000000           1.000000   \n",
       "\n",
       "       previous_cancellations  previous_bookings_not_canceled  \\\n",
       "count           118727.000000                   118727.000000   \n",
       "mean                 0.087208                        0.131613   \n",
       "std                  0.846423                        1.485306   \n",
       "min                  0.000000                        0.000000   \n",
       "25%                  0.000000                        0.000000   \n",
       "50%                  0.000000                        0.000000   \n",
       "75%                  0.000000                        0.000000   \n",
       "max                 26.000000                       72.000000   \n",
       "\n",
       "       booking_changes          agent        company  days_in_waiting_list  \\\n",
       "count    118727.000000  118727.000000  118727.000000         118727.000000   \n",
       "mean          0.218830      74.951696      10.546944              2.330658   \n",
       "std           0.638916     107.170694      53.462682             17.633138   \n",
       "min           0.000000       0.000000       0.000000              0.000000   \n",
       "25%           0.000000       7.000000       0.000000              0.000000   \n",
       "50%           0.000000       9.000000       0.000000              0.000000   \n",
       "75%           0.000000     153.000000       0.000000              0.000000   \n",
       "max          18.000000     535.000000     543.000000            391.000000   \n",
       "\n",
       "                 adr  required_car_parking_spaces  total_of_special_requests  \n",
       "count  118727.000000                118727.000000              118727.000000  \n",
       "mean      102.133353                     0.061907                   0.571765  \n",
       "std        50.389804                     0.244216                   0.792732  \n",
       "min        -6.380000                     0.000000                   0.000000  \n",
       "25%        70.000000                     0.000000                   0.000000  \n",
       "50%        95.000000                     0.000000                   0.000000  \n",
       "75%       126.000000                     0.000000                   1.000000  \n",
       "max      5400.000000                     8.000000                   5.000000  "
      ]
     },
     "execution_count": 47,
     "metadata": {},
     "output_type": "execute_result"
    }
   ],
   "source": [
    "hotels.describe(include=['int64','float64'])"
   ]
  },
  {
   "cell_type": "markdown",
   "metadata": {},
   "source": [
    "##### 4. Check the distribution of hotel type for cancellation "
   ]
  },
  {
   "cell_type": "code",
   "execution_count": 48,
   "metadata": {},
   "outputs": [
    {
     "data": {
      "text/plain": [
       "hotel\n",
       "City Hotel      0.417738\n",
       "Resort Hotel    0.279835\n",
       "Name: is_canceled, dtype: float64"
      ]
     },
     "execution_count": 48,
     "metadata": {},
     "output_type": "execute_result"
    }
   ],
   "source": [
    "hotels.groupby('hotel').mean()['is_canceled']"
   ]
  },
  {
   "cell_type": "code",
   "execution_count": 49,
   "metadata": {},
   "outputs": [
    {
     "data": {
      "image/png": "[encoded data removed]",
      "text/plain": [
       "<Figure size 432x288 with 1 Axes>"
      ]
     },
     "metadata": {
      "needs_background": "light"
     },
     "output_type": "display_data"
    }
   ],
   "source": [
    "sns.distplot(hotels['is_canceled'], bins = 10)\n",
    "plt.title(\"Density of canceled Booking\")\n",
    "plt.xlabel('Canceled Booking')\n",
    "plt.show()"
   ]
  },
  {
   "cell_type": "code",
   "execution_count": 50,
   "metadata": {},
   "outputs": [
    {
     "data": {
      "image/png": "[encoded data removed]",
      "text/plain": [
       "<Figure size 432x288 with 1 Axes>"
      ]
     },
     "metadata": {
      "needs_background": "light"
     },
     "output_type": "display_data"
    }
   ],
   "source": [
    "sns.countplot(x = 'hotel', hue = 'is_canceled', data = hotels, palette = 'magma')\n",
    "plt.title('Distribution of hotel type for cancellation')\n",
    "plt.xlabel('Hotel Type')\n",
    "plt.ylabel('Count (Canceled Booking)')\n",
    "plt.show()"
   ]
  },
  {
   "cell_type": "markdown",
   "metadata": {},
   "source": [
    "\n",
    "This representation show the distribution of hotel type for cancellation.\n",
    "there is more resevation at cities Hotels than at Resort ones."
   ]
  },
  {
   "cell_type": "code",
   "execution_count": 51,
   "metadata": {},
   "outputs": [
    {
     "data": {
      "image/png": "[encoded data removed]",
      "text/plain": [
       "<Figure size 432x288 with 1 Axes>"
      ]
     },
     "metadata": {
      "needs_background": "light"
     },
     "output_type": "display_data"
    }
   ],
   "source": [
    "sns.boxplot(x = 'hotel', y = 'is_canceled', data = hotels,showmeans=True,meanprops={\"marker\":\"_\",\n",
    "                       \"markeredgecolor\":\"black\",\n",
    "                      \"markersize\":\"90\"})\n",
    "sns.set(rc={'figure.figsize':(10,10)})\n",
    "plt.title('Distribution of hotel type for cancellation')\n",
    "plt.xlabel('Hotel Type')\n",
    "plt.ylabel('Candeled Booking')\n",
    "plt.show()"
   ]
  },
  {
   "cell_type": "markdown",
   "metadata": {},
   "source": [
    "This representation show that there is more canceled booking for the resorts Hotels than it is for the Cities ones.\n",
    "\n",
    "- 72% Canceled and 28% not for Resort Hotels\n",
    "- 59% Canceled and 41% not for City Hotels"
   ]
  },
  {
   "cell_type": "markdown",
   "metadata": {},
   "source": [
    "##### 5. Plot distribution of cancellation and Number of Adults"
   ]
  },
  {
   "cell_type": "code",
   "execution_count": 52,
   "metadata": {},
   "outputs": [
    {
     "data": {
      "image/png": "[encoded data removed]",
      "text/plain": [
       "<Figure size 720x720 with 1 Axes>"
      ]
     },
     "metadata": {},
     "output_type": "display_data"
    }
   ],
   "source": [
    "sns.distplot(hotels['adults'], bins = 10)\n",
    "plt.title(\"Density of numbers of adults\")\n",
    "plt.show()"
   ]
  },
  {
   "cell_type": "code",
   "execution_count": 53,
   "metadata": {},
   "outputs": [
    {
     "data": {
      "image/png": "[encoded data removed]",
      "text/plain": [
       "<Figure size 720x720 with 1 Axes>"
      ]
     },
     "metadata": {},
     "output_type": "display_data"
    }
   ],
   "source": [
    "sns.countplot(x = 'adults', hue = 'is_canceled', data = hotels, palette = 'magma')\n",
    "plt.title(\"Distribution of cancellation and Number of Adults\")\n",
    "plt.show()"
   ]
  },
  {
   "cell_type": "markdown",
   "metadata": {},
   "source": [
    "##### 6. Taking in consideration the characteristics of the variables included in this dataset propose two possible modeling this dataset can have an important role for research and education in revenue management (i.e define two possible target variables and the purpose of each analysis) "
   ]
  },
  {
   "cell_type": "code",
   "execution_count": 54,
   "metadata": {},
   "outputs": [
    {
     "data": {
      "text/plain": [
       "array(['BB', 'FB', 'HB', 'SC'], dtype=object)"
      ]
     },
     "execution_count": 54,
     "metadata": {},
     "output_type": "execute_result"
    }
   ],
   "source": [
    "hotels['meal'].unique()"
   ]
  },
  {
   "cell_type": "markdown",
   "metadata": {},
   "source": [
    "we can consider the target variable meal and see what the futur customers are more likely to order, this is very\n",
    " important in the hotel industry as meal preparation takes a lot of time and money, and by predicting how much and when to \n",
    " cook food, that could save tons of money and time for the hotel restaurent "
   ]
  },
  {
   "cell_type": "code",
   "execution_count": 55,
   "metadata": {},
   "outputs": [
    {
     "data": {
      "text/plain": [
       "array([0, 1], dtype=int64)"
      ]
     },
     "execution_count": 55,
     "metadata": {},
     "output_type": "execute_result"
    }
   ],
   "source": [
    "hotels['is_repeated_guest'].unique()"
   ]
  },
  {
   "cell_type": "markdown",
   "metadata": {},
   "source": [
    "the target variable 'is_repeated_guest' looks very intresting, when a new customer visits the hotel and is about to leave\n",
    "(so that the data is gathered) we can predict if he is coming back or not, if he's got a good chance in stopping by one more time\n",
    "the hotel marketing team can make special offers for those kind of customers, like: coupon reduction for their next visit,\n",
    "or give them a souvenir to leave a good impression...\n",
    "this target variable can play huge in the marketing strategy of the hotel, and can readily generate a lot of cash    "
   ]
  },
  {
   "cell_type": "markdown",
   "metadata": {},
   "source": [
    "### IV. Modeling"
   ]
  },
  {
   "cell_type": "markdown",
   "metadata": {},
   "source": [
    "based on the type of our data mining problem (binary classification) and the size of our dataset we have chosed 2\n",
    "classification algorithms to fit, test and score on our hotels data,to be able to chose the best one"
   ]
  },
  {
   "cell_type": "code",
   "execution_count": 56,
   "metadata": {},
   "outputs": [
    {
     "data": {
      "text/plain": [
       "array(['hotel', 'is_canceled', 'lead_time', 'arrival_date_year',\n",
       "       'arrival_date_month', 'arrival_date_week_number',\n",
       "       'arrival_date_day_of_month', 'stays_in_weekend_nights',\n",
       "       'stays_in_week_nights', 'adults', 'children', 'babies', 'meal',\n",
       "       'country', 'market_segment', 'distribution_channel',\n",
       "       'is_repeated_guest', 'previous_cancellations',\n",
       "       'previous_bookings_not_canceled', 'reserved_room_type',\n",
       "       'assigned_room_type', 'booking_changes', 'deposit_type', 'agent',\n",
       "       'company', 'days_in_waiting_list', 'customer_type', 'adr',\n",
       "       'required_car_parking_spaces', 'total_of_special_requests',\n",
       "       'reservation_status', 'reservation_status_date', 'arrival_date'],\n",
       "      dtype=object)"
      ]
     },
     "execution_count": 56,
     "metadata": {},
     "output_type": "execute_result"
    }
   ],
   "source": [
    "scaled_data.columns.values"
   ]
  },
  {
   "cell_type": "code",
   "execution_count": 57,
   "metadata": {},
   "outputs": [
    {
     "data": {
      "text/plain": [
       "Index(['hotel', 'lead_time', 'stays_in_weekend_nights', 'stays_in_week_nights',\n",
       "       'adults', 'children', 'babies', 'meal', 'country', 'market_segment',\n",
       "       'distribution_channel', 'is_repeated_guest', 'previous_cancellations',\n",
       "       'previous_bookings_not_canceled', 'reserved_room_type',\n",
       "       'booking_changes', 'deposit_type', 'agent', 'company',\n",
       "       'days_in_waiting_list', 'customer_type', 'adr',\n",
       "       'required_car_parking_spaces', 'total_of_special_requests'],\n",
       "      dtype='object')"
      ]
     },
     "execution_count": 57,
     "metadata": {},
     "output_type": "execute_result"
    }
   ],
   "source": [
    "features=np.delete(scaled_data.columns, (1,3,4,5,6,20,30,31,32))\n",
    "features"
   ]
  },
  {
   "cell_type": "markdown",
   "metadata": {},
   "source": [
    "- we have deleted some features that couldn't make sense, like arrival date: if he arrives we don't have to know if he cancels.\n",
    "assigned room: he will be assigned a room when he arrives so it doesn't make sense to leave it.\n",
    "reservation statues and resevation statues date"
   ]
  },
  {
   "cell_type": "code",
   "execution_count": 58,
   "metadata": {},
   "outputs": [
    {
     "data": {
      "text/plain": [
       "'is_canceled'"
      ]
     },
     "execution_count": 58,
     "metadata": {},
     "output_type": "execute_result"
    }
   ],
   "source": [
    "target=scaled_data.columns[1]\n",
    "target"
   ]
  },
  {
   "cell_type": "code",
   "execution_count": 59,
   "metadata": {},
   "outputs": [],
   "source": [
    "X = scaled_data[features].values\n",
    "y=scaled_data[target].values"
   ]
  },
  {
   "cell_type": "code",
   "execution_count": 121,
   "metadata": {},
   "outputs": [
    {
     "name": "stdout",
     "output_type": "stream",
     "text": [
      "(89045, 24) (29682, 24) (89045,) (29682,)\n"
     ]
    }
   ],
   "source": [
    "# we split our data into train and test\n",
    "from sklearn.model_selection import train_test_split\n",
    "X_trainset, X_testset, y_trainset, y_testset = train_test_split(X, y, random_state=42)\n",
    "print(X_trainset.shape, X_testset.shape, y_trainset.shape, y_testset.shape)"
   ]
  },
  {
   "cell_type": "markdown",
   "metadata": {},
   "source": [
    "we import the needed algorithms that we decided to use"
   ]
  },
  {
   "cell_type": "code",
   "execution_count": 61,
   "metadata": {},
   "outputs": [],
   "source": [
    "from sklearn.ensemble import RandomForestClassifier\n",
    "from sklearn.linear_model import LogisticRegression"
   ]
  },
  {
   "cell_type": "markdown",
   "metadata": {},
   "source": [
    "- we have chosed logistic regression because it works so well in binary classification and with sizes of data such as the one we have"
   ]
  },
  {
   "cell_type": "markdown",
   "metadata": {},
   "source": [
    "- we have seen in the class the decision tree model, we decided to take it a step forward and work with a more performant and \n",
    "sophesticated algorithm called: random forrest classifier.\n",
    "The random forest combines hundreds or thousands of decision trees,\n",
    "trains each one on a slightly different set of the observations,\n",
    "splitting nodes in each tree considering a limited number of the features.\n",
    "The final predictions of the random forest are made by averaging the predictions of each individual tree."
   ]
  },
  {
   "cell_type": "code",
   "execution_count": 62,
   "metadata": {},
   "outputs": [],
   "source": [
    "models={\"LogisticRegression\":LogisticRegression(random_state=42,max_iter=4000),\n",
    "       \"RandomForestClassifier\":RandomForestClassifier(n_estimators=100, \n",
    "                               bootstrap = True,\n",
    "                               max_features = 'sqrt')\n",
    "       }\n",
    "\n",
    "results={}"
   ]
  },
  {
   "cell_type": "markdown",
   "metadata": {},
   "source": [
    "we put our models in our dictionnary to speed up our coding using some for loops"
   ]
  },
  {
   "cell_type": "markdown",
   "metadata": {},
   "source": [
    "we chosed some hyperparameters that we judged are good for our problem,later on we will do some hyper parameter tuning to make sure\n",
    "that we're making the right choices"
   ]
  },
  {
   "cell_type": "code",
   "execution_count": 63,
   "metadata": {},
   "outputs": [],
   "source": [
    "for model_name, model in models.items():\n",
    "    model.fit(X_trainset, y_trainset)\n",
    "    results[model_name]=model.score(X_testset, y_testset)"
   ]
  },
  {
   "cell_type": "markdown",
   "metadata": {},
   "source": [
    "training of both our models, and storing the score values in the results dictionnary"
   ]
  },
  {
   "cell_type": "code",
   "execution_count": 64,
   "metadata": {},
   "outputs": [
    {
     "data": {
      "text/plain": [
       "{'LogisticRegression': 0.792972171686544,\n",
       " 'RandomForestClassifier': 0.8853513914156728}"
      ]
     },
     "execution_count": 64,
     "metadata": {},
     "output_type": "execute_result"
    }
   ],
   "source": [
    "results"
   ]
  },
  {
   "cell_type": "markdown",
   "metadata": {},
   "source": [
    "we can see that both the algorithmes did a pretty good job, still the RandomForestClassifier is way better with over 88.5% correct answers"
   ]
  },
  {
   "cell_type": "code",
   "execution_count": 65,
   "metadata": {},
   "outputs": [
    {
     "data": {
      "text/html": [
       "<div>\n",
       "<style scoped>\n",
       "    .dataframe tbody tr th:only-of-type {\n",
       "        vertical-align: middle;\n",
       "    }\n",
       "\n",
       "    .dataframe tbody tr th {\n",
       "        vertical-align: top;\n",
       "    }\n",
       "\n",
       "    .dataframe thead th {\n",
       "        text-align: right;\n",
       "    }\n",
       "</style>\n",
       "<table border=\"1\" class=\"dataframe\">\n",
       "  <thead>\n",
       "    <tr style=\"text-align: right;\">\n",
       "      <th></th>\n",
       "      <th>accuracy</th>\n",
       "    </tr>\n",
       "  </thead>\n",
       "  <tbody>\n",
       "    <tr>\n",
       "      <th>LogisticRegression</th>\n",
       "      <td>0.792972</td>\n",
       "    </tr>\n",
       "    <tr>\n",
       "      <th>RandomForestClassifier</th>\n",
       "      <td>0.885351</td>\n",
       "    </tr>\n",
       "  </tbody>\n",
       "</table>\n",
       "</div>"
      ],
      "text/plain": [
       "                        accuracy\n",
       "LogisticRegression      0.792972\n",
       "RandomForestClassifier  0.885351"
      ]
     },
     "execution_count": 65,
     "metadata": {},
     "output_type": "execute_result"
    }
   ],
   "source": [
    "results_df=pd.DataFrame(data=results.values(),index=results.keys())\n",
    "\n",
    "results_df['accuracy']=results_df[0]\n",
    "results_df.drop([0],axis=1)"
   ]
  },
  {
   "cell_type": "markdown",
   "metadata": {},
   "source": [
    "# Hyperparameter Tuning "
   ]
  },
  {
   "cell_type": "markdown",
   "metadata": {},
   "source": [
    "Often times, we don't immediately know what the optimal model architecture should be for a given model, and thus we'd like to be able to explore a range of possibilities. We'll ideally ask the machine to perform this exploration and select the optimal model architecture automatically. Parameters which define the model architecture are referred to as hyperparameters and thus this process of searching for the ideal model architecture is referred to as hyperparameter tuning."
   ]
  },
  {
   "cell_type": "markdown",
   "metadata": {},
   "source": [
    "##### hyperparameter tuning for logistic regression"
   ]
  },
  {
   "cell_type": "code",
   "execution_count": 66,
   "metadata": {},
   "outputs": [],
   "source": [
    "from sklearn.model_selection import RandomizedSearchCV"
   ]
  },
  {
   "cell_type": "markdown",
   "metadata": {},
   "source": [
    "we will use RandomizedSearchCV to find the best hyperparameters for our logistic regression model"
   ]
  },
  {
   "cell_type": "code",
   "execution_count": 67,
   "metadata": {},
   "outputs": [],
   "source": [
    "log_reg_grid={\"C\": np.logspace(-4,4,20),\n",
    "             \"solver\": [\"liblinear\"]}"
   ]
  },
  {
   "cell_type": "code",
   "execution_count": 68,
   "metadata": {},
   "outputs": [],
   "source": [
    "rs_log_reg=RandomizedSearchCV(estimator=models[\"LogisticRegression\"], \n",
    "                              param_distributions=log_reg_grid,\n",
    "                              cv=5,\n",
    "                              n_iter=5,\n",
    "                              verbose=0)"
   ]
  },
  {
   "cell_type": "code",
   "execution_count": 69,
   "metadata": {},
   "outputs": [
    {
     "name": "stdout",
     "output_type": "stream",
     "text": [
      "Best C: 78.47599703514607\n",
      "Best solver: liblinear\n"
     ]
    }
   ],
   "source": [
    "best_model = rs_log_reg.fit(X_trainset, y_trainset)\n",
    "c=best_model.best_estimator_.get_params()['C']\n",
    "print('Best C:', best_model.best_estimator_.get_params()['C'])\n",
    "print('Best solver:', best_model.best_estimator_.get_params()['solver'])"
   ]
  },
  {
   "cell_type": "code",
   "execution_count": 192,
   "metadata": {},
   "outputs": [
    {
     "data": {
      "text/plain": [
       "0.7954920100925147"
      ]
     },
     "execution_count": 192,
     "metadata": {},
     "output_type": "execute_result"
    }
   ],
   "source": [
    "best_model.score(X_testset, y_testset)"
   ]
  },
  {
   "cell_type": "markdown",
   "metadata": {},
   "source": [
    "the new model with the new hyperparameters is doing better than the old onen in terms of scoring he's doing approximatlly 0.002 better"
   ]
  },
  {
   "cell_type": "markdown",
   "metadata": {},
   "source": [
    "##### hyperparameter tuning for random forrest classifier"
   ]
  },
  {
   "cell_type": "markdown",
   "metadata": {},
   "source": [
    "a hyperparameter is a parameter of the model that is set prior to the start of the learning process. Different models have different hyperparameters that can be set. For a Random Forest Classifier, there are several different hyperparameters that can be adjusted"
   ]
  },
  {
   "cell_type": "code",
   "execution_count": 70,
   "metadata": {},
   "outputs": [],
   "source": [
    "from sklearn.model_selection import GridSearchCV"
   ]
  },
  {
   "cell_type": "markdown",
   "metadata": {},
   "source": [
    "we will use GridSearchCV to find the best hyperparameters for our RandomForestClassifier model"
   ]
  },
  {
   "cell_type": "code",
   "execution_count": 71,
   "metadata": {},
   "outputs": [
    {
     "name": "stdout",
     "output_type": "stream",
     "text": [
      "Fitting 3 folds for each of 108 candidates, totalling 324 fits\n"
     ]
    }
   ],
   "source": [
    "n_estimators = [100, 300, 500]\n",
    "max_depth = [ 15, 25, 30]\n",
    "min_samples_split = [2, 5, 10, 15]\n",
    "min_samples_leaf = [1, 2, 5] \n",
    "\n",
    "hyperF = dict(n_estimators = n_estimators, max_depth = max_depth,  \n",
    "              min_samples_split = min_samples_split, \n",
    "             min_samples_leaf = min_samples_leaf)\n",
    "\n",
    "gridF = GridSearchCV(RandomForestClassifier(), hyperF, cv = 3, verbose = 1, \n",
    "                      n_jobs = -1)\n",
    "bestF = gridF.fit(X_trainset, y_trainset)"
   ]
  },
  {
   "cell_type": "markdown",
   "metadata": {},
   "source": [
    "1.n_estimators: The n_estimators parameter specifies the number of trees in the forest of the model. The default value for this parameter is 10, which means that 10 different decision trees will be constructed in the random forest.\n",
    "2. max_depth: The max_depth parameter specifies the maximum depth of each tree. The default value for max_depth is None, which means that each tree will expand until every leaf is pure. A pure leaf is one where all of the data on the leaf comes from the same class.\n",
    "3. min_samples_split: The min_samples_split parameter specifies the minimum number of samples required to split an internal leaf node. The default value for this parameter is 2, which means that an internal node must have at least two samples before it can be split to have a more specific classification.\n",
    "4. min_samples_leaf: The min_samples_leaf parameter specifies the minimum number of samples required to be at a leaf node. The default value for this parameter is 1, which means that every leaf must have at least 1 sample that it classifies."
   ]
  },
  {
   "cell_type": "code",
   "execution_count": 90,
   "metadata": {},
   "outputs": [
    {
     "data": {
      "text/plain": [
       "{'max_depth': 30,\n",
       " 'min_samples_leaf': 1,\n",
       " 'min_samples_split': 2,\n",
       " 'n_estimators': 300}"
      ]
     },
     "execution_count": 90,
     "metadata": {},
     "output_type": "execute_result"
    }
   ],
   "source": [
    "gridF.best_params_"
   ]
  },
  {
   "cell_type": "code",
   "execution_count": 122,
   "metadata": {},
   "outputs": [
    {
     "data": {
      "text/plain": [
       "0.9610538373424972"
      ]
     },
     "execution_count": 122,
     "metadata": {},
     "output_type": "execute_result"
    }
   ],
   "source": [
    "bestF.score(X_testset, y_testset)"
   ]
  },
  {
   "cell_type": "markdown",
   "metadata": {},
   "source": [
    "the new random forrest classifier is doing extremly well with over 96.1% in accuracy scoring,\n",
    "that is a great exemple of showing the importance of hyperparameter tuning"
   ]
  },
  {
   "cell_type": "markdown",
   "metadata": {},
   "source": [
    "<div id=\"VI. Model evaluation\">\n",
    "    <h2>VI. Model evaluation</h2> \n",
    "</div>"
   ]
  },
  {
   "cell_type": "markdown",
   "metadata": {},
   "source": [
    "untill now, we have only used the score() function to evaluate our models, but when dealing with classification\n",
    "it's better to use some other metrics to get better insights"
   ]
  },
  {
   "cell_type": "markdown",
   "metadata": {},
   "source": [
    "- Confusion matrix - Compares the predicted values with the true values in a tabular way, if 100% correct, all values in the matrix will be top left to bottom right (diagnol line).\n",
    "- Cross-validation - Splits your dataset into multiple parts and train and tests your model on each part and evaluates performance as an average.\n",
    "- Precision - Proportion of true positives over total number of samples. Higher precision leads to less false positives.\n",
    "- Recall - Proportion of true positives over total number of true positives and false positives. Higher recall leads to less false negatives. \n",
    "- F1 score - Combines precision and recall into one metric. 1 is best, 0 is worst. \n",
    "- Classification report - Sklearn has a built-in function called classification_report() which returns some of the main classification metrics such as precision, recall and f1-score. \n",
    "- ROC Curve - Receiver Operating Characterisitc is a plot of true positive rate versus false positive rate. \n",
    "- Area Under Curve (AUC) - The area underneath the ROC curve. A perfect model achieves a score of 1.0. "
   ]
  },
  {
   "cell_type": "code",
   "execution_count": 74,
   "metadata": {},
   "outputs": [],
   "source": [
    "from sklearn.metrics import confusion_matrix\n",
    "from sklearn.metrics import classification_report\n",
    "from sklearn.metrics import precision_score\n",
    "from sklearn.metrics import recall_score\n",
    "from sklearn.metrics import f1_score\n",
    "from sklearn.metrics import plot_roc_curve"
   ]
  },
  {
   "cell_type": "markdown",
   "metadata": {},
   "source": [
    "now we will use our best hyperparameters to create new models"
   ]
  },
  {
   "cell_type": "code",
   "execution_count": 91,
   "metadata": {},
   "outputs": [],
   "source": [
    "clf=LogisticRegression(C=c,solver='liblinear')\n",
    "forrest=RandomForestClassifier(max_depth = 30, \n",
    "                               n_estimators = 300,\n",
    "                               min_samples_split = 2,\n",
    "                               min_samples_leaf = 1)"
   ]
  },
  {
   "cell_type": "code",
   "execution_count": 92,
   "metadata": {},
   "outputs": [
    {
     "data": {
      "text/plain": [
       "RandomForestClassifier(max_depth=30, n_estimators=300)"
      ]
     },
     "execution_count": 92,
     "metadata": {},
     "output_type": "execute_result"
    }
   ],
   "source": [
    "clf.fit(X_trainset, y_trainset)\n",
    "forrest.fit(X_trainset, y_trainset)"
   ]
  },
  {
   "cell_type": "code",
   "execution_count": 93,
   "metadata": {},
   "outputs": [],
   "source": [
    "y_preds_regression=clf.predict(X_testset)\n",
    "y_preds_rfc=forrest.predict(X_testset)"
   ]
  },
  {
   "cell_type": "markdown",
   "metadata": {},
   "source": [
    "#### confusion matrix "
   ]
  },
  {
   "cell_type": "code",
   "execution_count": 94,
   "metadata": {},
   "outputs": [
    {
     "data": {
      "text/plain": [
       "array([[17266,  1413],\n",
       "       [ 4728,  6275]], dtype=int64)"
      ]
     },
     "execution_count": 94,
     "metadata": {},
     "output_type": "execute_result"
    }
   ],
   "source": [
    "# confusion matrix for the regression model\n",
    "conf_mat_regression=confusion_matrix(y_testset, y_preds_regression)\n",
    "conf_mat_regression"
   ]
  },
  {
   "cell_type": "code",
   "execution_count": 95,
   "metadata": {},
   "outputs": [
    {
     "data": {
      "text/plain": [
       "array([[17403,  1276],\n",
       "       [ 2066,  8937]], dtype=int64)"
      ]
     },
     "execution_count": 95,
     "metadata": {},
     "output_type": "execute_result"
    }
   ],
   "source": [
    "#confusion matrix for the random forrest classifier model\n",
    "conf_mat_rfc=confusion_matrix(y_testset, y_preds_rfc)\n",
    "conf_mat_rfc"
   ]
  },
  {
   "cell_type": "markdown",
   "metadata": {},
   "source": [
    "- confusion matrices plotting and visualisation"
   ]
  },
  {
   "cell_type": "code",
   "execution_count": 123,
   "metadata": {},
   "outputs": [
    {
     "data": {
      "image/png": "[encoded data removed]",
      "text/plain": [
       "<Figure size 720x720 with 2 Axes>"
      ]
     },
     "metadata": {},
     "output_type": "display_data"
    }
   ],
   "source": [
    "from sklearn.metrics import plot_confusion_matrix\n",
    "plot_confusion_matrix(clf,X_testset, y_testset)\n",
    "plt.show()"
   ]
  },
  {
   "cell_type": "code",
   "execution_count": 125,
   "metadata": {},
   "outputs": [
    {
     "data": {
      "image/png": "[encoded data removed]",
      "text/plain": [
       "<Figure size 720x720 with 2 Axes>"
      ]
     },
     "metadata": {},
     "output_type": "display_data"
    }
   ],
   "source": [
    "plot_confusion_matrix(forrest,X_testset, y_testset)\n",
    "plt.show()"
   ]
  },
  {
   "cell_type": "markdown",
   "metadata": {},
   "source": [
    "both of the algorithms did a better job predicting if the reservation was not going to be canceled '0', than if it will be canceled.(the number of true positives is higher than the number f true negatives)\n",
    "which is good because the hotels will rarely have to deal with problems with customers, \n",
    "this way the hotels will  earn more money without risking their reputation"
   ]
  },
  {
   "cell_type": "markdown",
   "metadata": {},
   "source": [
    "##### classification report"
   ]
  },
  {
   "cell_type": "markdown",
   "metadata": {},
   "source": [
    "classification_report() is an sklearn built-in function which returns some of the main classification metrics such as precision, recall and f1-score. "
   ]
  },
  {
   "cell_type": "code",
   "execution_count": 115,
   "metadata": {},
   "outputs": [
    {
     "name": "stdout",
     "output_type": "stream",
     "text": [
      "classification report for regression\n",
      "              precision    recall  f1-score   support\n",
      "\n",
      "           0       0.79      0.92      0.85     18679\n",
      "           1       0.82      0.57      0.67     11003\n",
      "\n",
      "    accuracy                           0.79     29682\n",
      "   macro avg       0.80      0.75      0.76     29682\n",
      "weighted avg       0.80      0.79      0.78     29682\n",
      "\n"
     ]
    }
   ],
   "source": [
    "cr_regression=classification_report(y_testset, y_preds_regression)\n",
    "print('classification report for regression')\n",
    "print(cr_regression)"
   ]
  },
  {
   "cell_type": "code",
   "execution_count": 114,
   "metadata": {},
   "outputs": [
    {
     "name": "stdout",
     "output_type": "stream",
     "text": [
      "classification report for random forrest classifier\n",
      "              precision    recall  f1-score   support\n",
      "\n",
      "           0       0.89      0.93      0.91     18679\n",
      "           1       0.88      0.81      0.84     11003\n",
      "\n",
      "    accuracy                           0.89     29682\n",
      "   macro avg       0.88      0.87      0.88     29682\n",
      "weighted avg       0.89      0.89      0.89     29682\n",
      "\n"
     ]
    }
   ],
   "source": [
    "cr_rfc=classification_report(y_testset, y_preds_rfc)\n",
    "print('classification report for random forrest classifier')\n",
    "print(cr_rfc)"
   ]
  },
  {
   "cell_type": "markdown",
   "metadata": {},
   "source": [
    "clearly the random forrest classifier takes the lead here and is better performing according to all metrics"
   ]
  },
  {
   "cell_type": "markdown",
   "metadata": {},
   "source": [
    "#####  plotting a ROC CURVE using plot_roc_curve"
   ]
  },
  {
   "cell_type": "code",
   "execution_count": 105,
   "metadata": {},
   "outputs": [
    {
     "data": {
      "image/png": "[encoded data removed]",
      "text/plain": [
       "<Figure size 720x720 with 1 Axes>"
      ]
     },
     "metadata": {},
     "output_type": "display_data"
    }
   ],
   "source": [
    "# plot_roc_curve for regression model\n",
    "plot_roc_curve(clf, X_testset, y_testset)  \n",
    "plt.show()"
   ]
  },
  {
   "cell_type": "code",
   "execution_count": 106,
   "metadata": {},
   "outputs": [
    {
     "data": {
      "image/png": "[encoded data removed]",
      "text/plain": [
       "<Figure size 720x720 with 1 Axes>"
      ]
     },
     "metadata": {},
     "output_type": "display_data"
    }
   ],
   "source": [
    "# plot_roc_curve for random forrest classifier model\n",
    "plot_roc_curve(forrest, X_testset, y_testset)  \n",
    "plt.show()"
   ]
  },
  {
   "cell_type": "markdown",
   "metadata": {},
   "source": [
    "the area under roc curve confirms our evaluation of the models, at any threshhold the true positives of the random forrest classifier are higher than the true positives of the logistic regression classifier "
   ]
  },
  {
   "cell_type": "markdown",
   "metadata": {},
   "source": [
    "so far we have evaluated our model with only one traning set and one testing set, a more sophisticated way of doing\n",
    "the evaluation is by using the cross validation"
   ]
  },
  {
   "cell_type": "code",
   "execution_count": 107,
   "metadata": {},
   "outputs": [],
   "source": [
    "# importing cross_val_score from sklearn\n",
    "from sklearn.model_selection import cross_val_score"
   ]
  },
  {
   "cell_type": "code",
   "execution_count": 108,
   "metadata": {},
   "outputs": [
    {
     "data": {
      "text/plain": [
       "array([0.68352565, 0.71877369, 0.78159613, 0.76218151, 0.8068646 ])"
      ]
     },
     "execution_count": 108,
     "metadata": {},
     "output_type": "execute_result"
    }
   ],
   "source": [
    "#cross val scoring the regression model\n",
    "cross_val_score(clf, X, y,scoring=\"accuracy\",cv=5)"
   ]
  },
  {
   "cell_type": "code",
   "execution_count": 109,
   "metadata": {},
   "outputs": [
    {
     "data": {
      "text/plain": [
       "0.7505883150192914"
      ]
     },
     "execution_count": 109,
     "metadata": {},
     "output_type": "execute_result"
    }
   ],
   "source": [
    "cross_val_acc1=np.mean(cross_val_score(clf, X, y,scoring=\"accuracy\",cv=5))\n",
    "cross_val_acc1"
   ]
  },
  {
   "cell_type": "code",
   "execution_count": 110,
   "metadata": {},
   "outputs": [
    {
     "data": {
      "text/plain": [
       "array([0.6932536 , 0.75557989, 0.75556959, 0.80374816, 0.77810065])"
      ]
     },
     "execution_count": 110,
     "metadata": {},
     "output_type": "execute_result"
    }
   ],
   "source": [
    "#cross val scorinf the random forrest classifier model\n",
    "cross_val_score(forrest, X, y,scoring=\"accuracy\",cv=5)"
   ]
  },
  {
   "cell_type": "code",
   "execution_count": 111,
   "metadata": {},
   "outputs": [
    {
     "data": {
      "text/plain": [
       "0.756938751502464"
      ]
     },
     "execution_count": 111,
     "metadata": {},
     "output_type": "execute_result"
    }
   ],
   "source": [
    "cross_val_acc2=np.mean(cross_val_score(forrest, X, y,scoring=\"accuracy\",cv=5))\n",
    "cross_val_acc2"
   ]
  },
  {
   "cell_type": "markdown",
   "metadata": {},
   "source": [
    "taking the mean of the returned values from cross_val_score, we are going to give a cross validates version of\n",
    "the scoring metrics we have used above\n"
   ]
  },
  {
   "cell_type": "code",
   "execution_count": 116,
   "metadata": {},
   "outputs": [],
   "source": [
    "from sklearn.metrics import make_scorer"
   ]
  },
  {
   "cell_type": "markdown",
   "metadata": {},
   "source": [
    "- for the regression model:"
   ]
  },
  {
   "cell_type": "code",
   "execution_count": 117,
   "metadata": {},
   "outputs": [],
   "source": [
    "ps_regression=np.mean(cross_val_score(clf,X,y, scoring = make_scorer(precision_score), cv = 5 ))\n",
    "rs_regression=np.mean(cross_val_score(clf,X,y, scoring = make_scorer(recall_score), cv = 5 ))\n",
    "f1_regression=np.mean(cross_val_score(clf,X,y, scoring = make_scorer(f1_score), cv = 5 ))"
   ]
  },
  {
   "cell_type": "markdown",
   "metadata": {},
   "source": [
    "- for the random forrest classifier  model:"
   ]
  },
  {
   "cell_type": "code",
   "execution_count": 127,
   "metadata": {},
   "outputs": [],
   "source": [
    "ps_rfc=np.mean(cross_val_score(forrest,X,y, scoring = make_scorer(precision_score), cv = 5 ))\n",
    "rs_rfc=np.mean(cross_val_score(forrest,X,y, scoring = make_scorer(recall_score), cv = 5 ))\n",
    "f1_rfc=np.mean(cross_val_score(forrest,X,y, scoring = make_scorer(f1_score), cv = 5 ))\n"
   ]
  },
  {
   "cell_type": "code",
   "execution_count": 132,
   "metadata": {},
   "outputs": [
    {
     "data": {
      "text/html": [
       "<div>\n",
       "<style scoped>\n",
       "    .dataframe tbody tr th:only-of-type {\n",
       "        vertical-align: middle;\n",
       "    }\n",
       "\n",
       "    .dataframe tbody tr th {\n",
       "        vertical-align: top;\n",
       "    }\n",
       "\n",
       "    .dataframe thead th {\n",
       "        text-align: right;\n",
       "    }\n",
       "</style>\n",
       "<table border=\"1\" class=\"dataframe\">\n",
       "  <thead>\n",
       "    <tr style=\"text-align: right;\">\n",
       "      <th></th>\n",
       "      <th>precision_score</th>\n",
       "      <th>recall_score</th>\n",
       "      <th>f1_score</th>\n",
       "    </tr>\n",
       "  </thead>\n",
       "  <tbody>\n",
       "    <tr>\n",
       "      <th>0</th>\n",
       "      <td>0.758156</td>\n",
       "      <td>0.520800</td>\n",
       "      <td>0.582065</td>\n",
       "    </tr>\n",
       "    <tr>\n",
       "      <th>1</th>\n",
       "      <td>0.740992</td>\n",
       "      <td>0.589927</td>\n",
       "      <td>0.618324</td>\n",
       "    </tr>\n",
       "  </tbody>\n",
       "</table>\n",
       "</div>"
      ],
      "text/plain": [
       "   precision_score  recall_score  f1_score\n",
       "0         0.758156      0.520800  0.582065\n",
       "1         0.740992      0.589927  0.618324"
      ]
     },
     "execution_count": 132,
     "metadata": {},
     "output_type": "execute_result"
    }
   ],
   "source": [
    "##### visualising our cross_val scoring in a dataframe\n",
    "results_cross_val_score=pd.DataFrame(data=[[ps_regression,rs_regression,f1_regression],[ps_rfc,rs_rfc,f1_rfc]],\n",
    "                                     columns=['precision_score','recall_score','f1_score'])\n",
    "\n",
    "results_cross_val_score\n"
   ]
  },
  {
   "cell_type": "markdown",
   "metadata": {},
   "source": [
    "as we shuffle our training and testing data the results remain the same: the random forrest classifier takes the lead and we will be using it for future predictions"
   ]
  },
  {
   "cell_type": "markdown",
   "metadata": {},
   "source": [
    "##### exporting our models:"
   ]
  },
  {
   "cell_type": "markdown",
   "metadata": {},
   "source": [
    "exporting the regression model to 'LogisticRegressionFile.joblib' and exporting the random forrest classifier model to 'RandomForrestClassifier.joblib'"
   ]
  },
  {
   "cell_type": "code",
   "execution_count": null,
   "metadata": {},
   "outputs": [],
   "source": [
    "from joblib import dump\n",
    "# exporting the regression model\n",
    "dump(clf, 'LogisticRegressionFile.joblib')\n",
    "# exporting the random forrest classifier model\n",
    "dump(forrest, 'RandomForrestClassifier.joblib')"
   ]
  }
 ],
 "metadata": {
  "kernelspec": {
   "display_name": "Python 3",
   "language": "python",
   "name": "python3"
  },
  "language_info": {
   "codemirror_mode": {
    "name": "ipython",
    "version": 3
   },
   "file_extension": ".py",
   "mimetype": "text/x-python",
   "name": "python",
   "nbconvert_exporter": "python",
   "pygments_lexer": "ipython3",
   "version": "3.7.4"
  }
 },
 "nbformat": 4,
 "nbformat_minor": 2
}
